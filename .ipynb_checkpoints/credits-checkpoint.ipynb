{
 "cells": [
  {
   "cell_type": "markdown",
   "id": "48461ce0-51d8-49ae-90d9-501b1fa89335",
   "metadata": {},
   "source": [
    "<table width=\"100%\"><tr style=\"background-color:white;\">\n",
    "    <td style=\"text-align:left;padding:0px;width:142px'\">\n",
    "        <a href=\"https://qworld.net\" target=\"_blank\">\n",
    "            <img src=\"qworld/images/QWorld.png\"></a></td>\n",
    "    <td width=\"*\">&nbsp;&nbsp;&nbsp;&nbsp;&nbsp;&nbsp;</td>\n",
    "    <!-- ############################################# -->\n",
    "    <td style=\"padding:0px;width:90px;\">\n",
    "        <img align=\"right\" src=\"qworld/images/follow_us.png\" height=\"40px\"></td>\n",
    "    <td style=\"padding:0px;width:40px;\">\n",
    "        <a href=\"https://twitter.com/QWorld19\" target=\"_blank\">\n",
    "        <img align=\"right\" src=\"qworld/images/Twitter.png\" width=\"40px\"></a> </td>\n",
    "    <td style=\"padding:0px;width:5px;\"></td>\n",
    "    <td style=\"padding:0px;width:40px;\">\n",
    "        <a href=\"https://www.facebook.com/qworld19/\" target=\"_blank\">\n",
    "        <img align=\"right\" src=\"qworld/images/Fb.png\"></a></td>\n",
    "    <td style=\"padding:0px;width:5px;\"></td>\n",
    "    <td style=\"padding:0px;width:40px;\">\n",
    "        <a href=\"https://www.linkedin.com/company/qworld19\" target=\"_blank\">\n",
    "        <img align=\"right\" src=\"qworld/images/LinkedIn.png\"></a></td>\n",
    "    <td style=\"padding:0px;width:5px;\"></td>\n",
    "    <td style=\"padding:0px;width:40px;\">\n",
    "        <a href=\"https://youtube.com/QWorld19?sub_confirmation=1\" target=\"_blank\">\n",
    "        <img align=\"right\" src=\"qworld/images/YT.png\"></a></td>\n",
    "    <!-- ############################################# -->\n",
    "    <td style=\"padding:0px;width:60px;\">\n",
    "        <img align=\"right\" src=\"qworld/images/join.png\" height=\"40px\"></td>\n",
    "    <td style=\"padding:0px;width:40px;\">\n",
    "        <a href=\"https://discord.com/invite/akCvr7U87g\"\n",
    "           target=\"_blank\">\n",
    "        <img align=\"right\" src=\"qworld/images/Discord.png\"></a></td>\n",
    "    <!-- ############################################# -->\n",
    "    <td style=\"padding:0px;width:72px;\">\n",
    "        <img align=\"right\" src=\"qworld/images/w3.png\" height=\"40px\"></td>\n",
    "    <td style=\"padding:0px;width:40px;\">\n",
    "        <a href=\"https://qworld.net\" target=\"_blank\">\n",
    "        <img align=\"right\" src=\"qworld/images/www.png\"></a></td>\n",
    "</tr></table>"
   ]
  },
  {
   "cell_type": "markdown",
   "id": "ca94dc6f-d0e9-4d7b-b7ab-28bf9681bcf0",
   "metadata": {},
   "source": [
    "Bronze was created by [Abuzer Yakaryilmaz](http://abu.lu.lv) (QWorld & QLatvia) in October 2018, and it has been developed and maintained by him. Özlem Salehi Köken (QWorld & QTurkey) and Maksims Dimitrijevs (QWorld & QLatvia) are the other contributors by preparing new notebooks and revising the existing notebooks. Bronze was publicly available on July 7, 2019. Bronze-Qiskit was released by Abuzer Yakaryilmaz in February 2021.\n",
    "\n",
    "Most of the Nickel and Silver is prepared under the project QPool2019 [GitLab repository](https://gitlab.com/qkitchen/qpool2019) in 2019-2020 and it is expected to have contributions from public as well. We would like to thank participants of the QSilver Revision Week organized in January 2021 and the participants of the QSilver Pilot Workshop organized in April 2021 for revising the material. We would like to thank Yasir Ölmez for his technical help in finalizing the notebooks.\n",
    "\n",
    "#### Conventional Quantum Algorithms\n",
    "\n",
    "This part is mostly developed collaboratively by <a href=\"https://qworld.net/qturkey/\" target=\"_blank\">QTurkey</a>. The contributors are Arda Çınar, Berat Yenilen, Cenk Tüysüz, <a href=\"https://www.cmpe.boun.edu.tr/~ozlem.salehi/\" target=\"_blank\">Özlem Salehi</a> ([IITiS PAN](https://iitis.pl/en/)), and Utku Birkan. Simon's Algorithm notebook is developed by Vishal Bapje and Kenneth Isamande and revised by <a href=\"https://www.cmpe.boun.edu.tr/~ozlem.salehi/\" target=\"_blank\">Özlem Salehi</a>. \n",
    "\n",
    "#### Introduction to Complex Numbers, Bloch Sphere, Operations with Complex Numbers\n",
    "\n",
    "This part is developed by Dr. Maksim Dimitrijev(<a href=\"https://qworld.net/qlatvia/\" target=\"_blank\">QLatvia</a>). <a href=\"https://people.fjfi.cvut.cz/gabriaur/ \" target=\"_blank\">Aurél Gábris</a> (<a href=\"https://qworld.net/qczech/\" target=\"_blank\">QCzech</a>) contributed by providing additional content.     \n",
    "\n",
    "#### Quantum Fourier Transform and Shor's Algorithm\n",
    "\n",
    "This section is developed by <a href=\"https://www.cmpe.boun.edu.tr/~ozlem.salehi/\" target=\"_blank\"> Özlem Salehi</a>."
   ]
  }
 ],
 "metadata": {
  "kernelspec": {
   "display_name": "Python 3 (ipykernel)",
   "language": "python",
   "name": "python3"
  },
  "language_info": {
   "codemirror_mode": {
    "name": "ipython",
    "version": 3
   },
   "file_extension": ".py",
   "mimetype": "text/x-python",
   "name": "python",
   "nbconvert_exporter": "python",
   "pygments_lexer": "ipython3",
   "version": "3.12.7"
  }
 },
 "nbformat": 4,
 "nbformat_minor": 5
}
