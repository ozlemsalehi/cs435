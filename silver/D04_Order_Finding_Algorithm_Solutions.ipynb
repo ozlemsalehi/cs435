{
 "cells": [
  {
   "cell_type": "markdown",
   "metadata": {},
   "source": [
    "\n",
    "<a href=\"https://qworld.net\" target=\"_blank\" align=\"left\"><img src=\"../qworld/images/header.jpg\"  align=\"left\"></a>\n",
    "<table  align=\"left\" width=\"100%\"> <tr>\n",
    "        <td  align=\"right\" style=\"background-color:#ffffff;vertical-align:bottom;horizontal-align:right\">\n",
    "            prepared by Özlem Salehi (<a href=\"http://qworld.lu.lv/index.php/qturkey/\" target=\"_blank\">QTurkey</a>)\n",
    "        </td>        \n",
    "</tr></table>"
   ]
  },
  {
   "cell_type": "markdown",
   "metadata": {},
   "source": [
    "<table width=\"100%\"><tr><td style=\"color:#bbbbbb;background-color:#ffffff;font-size:11px;font-style:italic;text-align:right;\">This cell contains some macros. If there is a problem with displaying mathematical formulas, please run this cell to load these macros. </td></tr></table>\n",
    "$\\newcommand{\\Mod}[1]{\\ (\\mathrm{mod}\\ #1)}$\n",
    "$ \\newcommand{\\bra}[1]{\\langle #1|} $\n",
    "$ \\newcommand{\\ket}[1]{|#1\\rangle} $\n",
    "$ \\newcommand{\\braket}[2]{\\langle #1|#2\\rangle} $\n",
    "$ \\newcommand{\\dot}[2]{ #1 \\cdot #2} $\n",
    "$ \\newcommand{\\biginner}[2]{\\left\\langle #1,#2\\right\\rangle} $\n",
    "$ \\newcommand{\\mymatrix}[2]{\\left( \\begin{array}{#1} #2\\end{array} \\right)} $\n",
    "$ \\newcommand{\\myvector}[1]{\\mymatrix{c}{#1}} $\n",
    "$ \\newcommand{\\myrvector}[1]{\\mymatrix{r}{#1}} $\n",
    "$ \\newcommand{\\mypar}[1]{\\left( #1 \\right)} $\n",
    "$ \\newcommand{\\mybigpar}[1]{ \\Big( #1 \\Big)} $\n",
    "$ \\newcommand{\\sqrttwo}{\\frac{1}{\\sqrt{2}}} $\n",
    "$ \\newcommand{\\dsqrttwo}{\\dfrac{1}{\\sqrt{2}}} $\n",
    "$ \\newcommand{\\onehalf}{\\frac{1}{2}} $\n",
    "$ \\newcommand{\\donehalf}{\\dfrac{1}{2}} $\n",
    "$ \\newcommand{\\hadamard}{ \\mymatrix{rr}{ \\sqrttwo & \\sqrttwo \\\\ \\sqrttwo & -\\sqrttwo }} $\n",
    "$ \\newcommand{\\vzero}{\\myvector{1\\\\0}} $\n",
    "$ \\newcommand{\\vone}{\\myvector{0\\\\1}} $\n",
    "$ \\newcommand{\\stateplus}{\\myvector{ \\sqrttwo \\\\  \\sqrttwo } } $\n",
    "$ \\newcommand{\\stateminus}{ \\myrvector{ \\sqrttwo \\\\ -\\sqrttwo } } $\n",
    "$ \\newcommand{\\myarray}[2]{ \\begin{array}{#1}#2\\end{array}} $\n",
    "$ \\newcommand{\\X}{ \\mymatrix{cc}{0 & 1 \\\\ 1 & 0}  } $\n",
    "$ \\newcommand{\\Z}{ \\mymatrix{rr}{1 & 0 \\\\ 0 & -1}  } $\n",
    "$ \\newcommand{\\Htwo}{ \\mymatrix{rrrr}{ \\frac{1}{2} & \\frac{1}{2} & \\frac{1}{2} & \\frac{1}{2} \\\\ \\frac{1}{2} & -\\frac{1}{2} & \\frac{1}{2} & -\\frac{1}{2} \\\\ \\frac{1}{2} & \\frac{1}{2} & -\\frac{1}{2} & -\\frac{1}{2} \\\\ \\frac{1}{2} & -\\frac{1}{2} & -\\frac{1}{2} & \\frac{1}{2} } } $\n",
    "$ \\newcommand{\\CNOT}{ \\mymatrix{cccc}{1 & 0 & 0 & 0 \\\\ 0 & 1 & 0 & 0 \\\\ 0 & 0 & 0 & 1 \\\\ 0 & 0 & 1 & 0} } $\n",
    "$ \\newcommand{\\norm}[1]{ \\left\\lVert #1 \\right\\rVert } $\n",
    "$ \\newcommand{\\pstate}[1]{ \\lceil \\mspace{-1mu} #1 \\mspace{-1.5mu} \\rfloor } $"
   ]
  },
  {
   "cell_type": "markdown",
   "metadata": {},
   "source": [
    "<h1> <font color=\"blue\"> Solutions for </font> Order Finding Algorithm</h1>"
   ]
  },
  {
   "cell_type": "markdown",
   "metadata": {},
   "source": [
    "<a id=\"task1\"></a>\n",
    "<h3>Task 1</h3>\n",
    "\n",
    "Let $x=5$ and $N=21$. Plot $x^ i \\Mod{N}$ for $i$ values between $1$ and $50$ and find the order of $x$."
   ]
  },
  {
   "cell_type": "markdown",
   "metadata": {},
   "source": [
    "<h3>Solution</h3>"
   ]
  },
  {
   "cell_type": "code",
   "execution_count": null,
   "metadata": {
    "scrolled": true
   },
   "outputs": [],
   "source": [
    "import matplotlib.pyplot as plt\n",
    "#Create an empty list\n",
    "l = []\n",
    "x=5\n",
    "N=21\n",
    "\n",
    "#Append x^i mod N values\n",
    "for i in range (50):\n",
    "    l.append((x**i) % N)\n",
    "\n",
    "\n",
    "plt.plot(l)\n",
    "plt.show()"
   ]
  },
  {
   "cell_type": "markdown",
   "metadata": {},
   "source": [
    "Let's check each integer and stop when we find an integer $r$ satisfying $x^r = 1 \\Mod{N}$\n",
    "\n",
    "$ 5^1 = 5 ~\\mod 21 $ \n",
    "\n",
    "$ 5^2 = 4 ~\\mod 21  $\n",
    "\n",
    "$ 5^3 = 20 \\mod 21 $\n",
    "\n",
    "$ 5^4 = 16 \\mod 21 $\n",
    "\n",
    "$ 5^5 = 17 \\mod 21 $\n",
    "\n",
    "$ 5^6 = 1 ~\\mod 21  $\n",
    "\n",
    "Hence the order $r$ is equal to 6."
   ]
  },
  {
   "cell_type": "markdown",
   "metadata": {},
   "source": [
    "<a id=\"task2\"></a>\n",
    "<h3>Task 2 (on paper)</h3>\n",
    "\n",
    "Let $\\ket{\\psi_0}=\\ket{1 \\Mod{N}}+\\ket{x\\Mod{N}}+\\ket{x^2\\Mod{N}}+ \\cdots + \\ket{x^{r-1}\\Mod{N}}$. \n",
    "\n",
    "What is $U_x \\ket{\\psi_0}$? What can you conclude about $\\ket{\\psi_0}$?\n",
    "\n",
    "Repeat the same task for $\\ket{\\psi_1}=\\ket{1}+ \\omega^{-1}\\ket{x\\Mod{N}}+\\omega^{-2}\\ket{x^2\\Mod{N}}+ \\cdots + \\omega^{-(r-1)}  \\ket{x^{r-1}\\Mod{N}}$ where $\\omega=e^{-\\frac{2{\\pi}i}{r}}$."
   ]
  },
  {
   "cell_type": "markdown",
   "metadata": {},
   "source": [
    "<h3>Solution</h3>"
   ]
  },
  {
   "cell_type": "markdown",
   "metadata": {},
   "source": [
    "\\begin{align*}\n",
    "U_x\\ket{\\psi_0} &= U_x\\ket{1 \\Mod{N}} + U_x \\ket{x \\Mod{N}}+ \\dots + U_x \\ket{x^{r-1} \\Mod{N}}\\\\\n",
    "&= \\ket{x \\Mod{N}} + \\ket{x^2\\Mod{N}}+ \\dots + \\ket{1\\Mod{N}} \\\\\n",
    "&= \\ket{\\psi_0}\n",
    "\\end{align*}\n",
    "\n",
    "Hence we can conclude that $\\ket{\\psi_0}$ is an eigenvector of the operator $U_x$ with eigenvalue 1."
   ]
  },
  {
   "cell_type": "markdown",
   "metadata": {},
   "source": [
    "Let's repeat the same for $\\ket{\\psi_1}$.\n",
    "\n",
    "\\begin{align*}\n",
    "U_x\\ket{\\psi_1} &= U_x\\ket{1 \\Mod{N}} + \\omega^{-1}U_x  \\ket{x \\Mod{N}}+ \\dots +\\omega^{-(r-1)} U_x \\ket{x^{r-1} \\Mod{N}}\\\\\n",
    "&= \\ket{x \\Mod{N}} + \\omega^{-1}\\ket{x^2 \\Mod{N}}+ \\dots + \\omega^{-(r-1)}\\ket{1 \\Mod{N}} \\\\\n",
    "&= \\omega( \\omega^{-1}\\ket{x \\Mod{N}} + \\omega^{-2}\\ket{x^2 \\Mod{N}}+ \\dots + \\omega^{-(r)}\\ket{1 \\Mod{N}}) \\\\\n",
    "&= \\omega\\ket{\\psi_1}\n",
    "\\end{align*}\n",
    "\n",
    "Hence, $\\ket{\\psi_1}$ is an eigenvector of the operator $U_x$ with an eigenvalue $\\omega$."
   ]
  },
  {
   "cell_type": "markdown",
   "metadata": {},
   "source": [
    "<a id=\"task3\"></a>\n",
    "<h3>Task 3 (on paper)</h3>\n",
    "\n",
    "Show that $\\displaystyle \\frac{1}{\\sqrt{r}}\\sum_{s=0}^{r-1}\\ket{u_s}= \\ket{1}$."
   ]
  },
  {
   "cell_type": "markdown",
   "metadata": {},
   "source": [
    "<h3>Solution</h3>"
   ]
  },
  {
   "cell_type": "markdown",
   "metadata": {},
   "source": [
    "Let's replace $\\ket{u_s}$ in the sum above. We have the following expression:\n",
    "\n",
    "$ \\displaystyle \\frac{1}{\\sqrt{r}}\\sum_{s=0}^{r-1}\\ket{u_s}= \\frac{1}{\\sqrt{r}}\\sum_{s=0}^{r-1}\\frac{1}{\\sqrt{r}}\\sum_{k=0}^{r-1}e^{\\frac{-2{\\pi}i s k}{r}}\\ket{{x^k} \\Mod{N}}$"
   ]
  },
  {
   "cell_type": "markdown",
   "metadata": {},
   "source": [
    "If $ k=0 $, $ \\displaystyle \\sum_{s=0}^{r-1}e^{\\frac{-2{\\pi}i s k}{r}} = r $ and the state $ \\ket{1} $ has amplitude 1 in which case for all other $ k $, all amplitudes are equal to 0. Hence $ \\displaystyle \\frac{1}{\\sqrt{r}}\\sum_{s=0}^{r-1}\\ket{u_s}=\\ket{1}.$\n",
    "\t"
   ]
  },
  {
   "cell_type": "markdown",
   "metadata": {},
   "source": [
    "<a id=\"task4\"></a>\n",
    "\n",
    "<h3>Task 4</h3>\n",
    "\n",
    "Find the continued fractions expression for $\\frac{31}{13}$ and find the convergents first using pen and paper and then using the functions defined above."
   ]
  },
  {
   "cell_type": "markdown",
   "metadata": {},
   "source": [
    "<h3>Solution</h3>"
   ]
  },
  {
   "cell_type": "markdown",
   "metadata": {},
   "source": [
    "$\\frac{31}{13}$  can be expressed as $\\frac{31}{13}=2+\\frac{5}{13}$. Continuing like this,\n",
    "\n",
    "\\begin{align*}\n",
    "\t\t=2+\\frac{1}{2+\\frac{3}{5}} = 2+\\frac{1}{2+\\frac{1}{\\frac{5}{3}}}\n",
    "\t\t\\end{align*}\n",
    "        \n",
    "        "
   ]
  },
  {
   "cell_type": "markdown",
   "metadata": {},
   "source": [
    "The resulting expression will be \n",
    "\n",
    "\\begin{align*}\n",
    "2+\\frac{1}{2+\\frac{1}{1 + \\frac{1}{1+ \\frac{1}{2}}}}\n",
    "\\end{align*}\n",
    "\n",
    "with the continued fraction expression $[2,2,1,1,2]$. \n"
   ]
  },
  {
   "cell_type": "markdown",
   "metadata": {},
   "source": [
    "The convergents are $c_1=2$, $c_2=2 + \\frac{1}{2} = \\frac{5}{2} $, $c_3 = 2 + \\frac{1}{2 + \\frac{1}{1}} = \\frac{7}{3}$, $c_4 = 2+ \\frac{ 1}{2 + \\frac{1}{1 + \\frac{1}{1}}} = \\frac{12}{5}$, $c_5 = 2+\\frac{1}{2+\\frac{1}{1 + \\frac{1}{1+ \\frac{1}{2}}}}\n",
    " = \\frac{31}{13}$ "
   ]
  },
  {
   "cell_type": "markdown",
   "metadata": {},
   "source": [
    "Let's find the continued fractions expression and convergents for $\\frac{31}{13}$ using the functions defined in the notebook."
   ]
  },
  {
   "cell_type": "code",
   "execution_count": null,
   "metadata": {
    "scrolled": true
   },
   "outputs": [],
   "source": [
    "%run ../include/helpers.py"
   ]
  },
  {
   "cell_type": "code",
   "execution_count": null,
   "metadata": {
    "scrolled": true
   },
   "outputs": [],
   "source": [
    "cf=contFrac(31/13)\n",
    "print(cf)\n",
    "cv=convergents(cf)\n",
    "print(cv)"
   ]
  },
  {
   "cell_type": "markdown",
   "metadata": {},
   "source": [
    "<a id=\"task5\"></a>\n",
    "\n",
    "<h3>Task 5</h3>\n",
    "\n",
    "You are given a function named $U_x$ which implements $ U_x \\ket{y} \\rightarrow \\ket{xy {\\Mod{N}}}$ and returns its controlled version. Run the following cell to load the function."
   ]
  },
  {
   "cell_type": "code",
   "execution_count": null,
   "metadata": {
    "scrolled": true
   },
   "outputs": [],
   "source": [
    "%run ux_operator.py"
   ]
  },
  {
   "cell_type": "markdown",
   "metadata": {},
   "source": [
    "In order to use the function you should pass $x$ and $N$ as parameter.\n",
    "\n",
    "<pre>U=Ux(x,N)</pre>"
   ]
  },
  {
   "cell_type": "markdown",
   "metadata": {},
   "source": [
    "Let $x=3$ and $N=20$. Use phase estimation procedure to find the estimates for $\\frac{s}{r}$. Pick the correct values for $t$ and $L$. You can use the <i>qpe</i> function you have already implemented. Plot your results using a histogram. Where do the peaks occur?"
   ]
  },
  {
   "cell_type": "markdown",
   "metadata": {},
   "source": [
    "<h3>Solution</h3>"
   ]
  },
  {
   "cell_type": "code",
   "execution_count": null,
   "metadata": {
    "scrolled": true
   },
   "outputs": [],
   "source": [
    "# %load qpe.py\n",
    "from qiskit import QuantumRegister, ClassicalRegister, QuantumCircuit\n",
    "from qiskit_aer import AerSimulator\n",
    "from qiskit.circuit.library import UnitaryGate\n",
    "\n",
    "def qpe(t,control, target, circuit, uU):\n",
    "    \n",
    "    #Apply Hadamard to control qubits\n",
    "    for qb in control:\n",
    "        circuit.h(qb)\n",
    "    \n",
    "    for i in range(t):\n",
    "        # Assemble list of control and target qubits\n",
    "        qubits=[control[t-i-1]]\n",
    "        for qq in target:\n",
    "            qubits.append(qq)\n",
    "\n",
    "        # Apply CU gates\n",
    "        circuit.append(UnitaryGate(uU).power(2**i).control(),qubits)\n",
    "       \n",
    "    #Apply inverse QFT\n",
    "    iqft(t,control,circuit)"
   ]
  },
  {
   "cell_type": "code",
   "execution_count": null,
   "metadata": {
    "scrolled": true
   },
   "outputs": [],
   "source": [
    "# %load iqft.py\n",
    "from qiskit import QuantumRegister, ClassicalRegister, QuantumCircuit\n",
    "from qiskit_aer import AerSimulator\n",
    "from math import pi\n",
    "\n",
    "def iqft(n, qubits, circuit):\n",
    "    #Swap the qubits\n",
    "    for i in range(n//2):\n",
    "        circuit.swap(qubits[i],qubits[n-i-1])     \n",
    "        \n",
    "    #For each qubit\n",
    "    for i in range(n-1,-1,-1):\n",
    "        #Apply CR_k gates where j is the control and i is the target\n",
    "        k=n-i #We start with k=n-i\n",
    "        for j in range(n-1,i,-1):\n",
    "            #Apply CR_k gate  \n",
    "            circuit.cp(-pi*2/2**(k), qubits[j],qubits[i])\n",
    "            k=k-1 #Decrement k at each step\n",
    " \n",
    "        #Apply Hadamard to the qubit\n",
    "        circuit.h(qubits[i])"
   ]
  },
  {
   "cell_type": "markdown",
   "metadata": {},
   "source": [
    "$t$ should be picked as $2L + 1 + \\big \\lceil \\log \\big( 2 + \\frac{1}{2\\epsilon} \\big) \\big \\rceil$. Let $\\epsilon=0.1$. First let's find $L$."
   ]
  },
  {
   "cell_type": "code",
   "execution_count": null,
   "metadata": {
    "scrolled": true
   },
   "outputs": [],
   "source": [
    "import math\n",
    "N=20\n",
    "L=math.ceil(math.log2(N))\n",
    "print(L)"
   ]
  },
  {
   "cell_type": "markdown",
   "metadata": {},
   "source": [
    "$ L= \\big \\lceil  \\log_2 N \\big \\rceil $ = $\\big \\lceil  \\log_2 20 \\big \\rceil =5.$"
   ]
  },
  {
   "cell_type": "code",
   "execution_count": null,
   "metadata": {},
   "outputs": [],
   "source": [
    "e = 0.1\n",
    "num_t = 2*L+1+math.ceil(math.log2(2+1/(2*e)))\n",
    "print(num_t)"
   ]
  },
  {
   "cell_type": "code",
   "execution_count": null,
   "metadata": {},
   "outputs": [],
   "source": [
    "from qiskit import QuantumRegister, ClassicalRegister, QuantumCircuit\n",
    "from qiskit import transpile\n",
    "from qiskit_aer import AerSimulator\n",
    "from qiskit.visualization import plot_histogram\n",
    "\n",
    "#Set n and t\n",
    "#Assign the size of the registers\n",
    "t=num_t #Number of qubits in the control register\n",
    "n=L #Number of qubits in the register storing eigenvector\n",
    "\n",
    "#Create t qubits of the control register\n",
    "control = QuantumRegister(t)\n",
    "\n",
    "#Create n qubits of the target register\n",
    "target = QuantumRegister(n)\n",
    "\n",
    "#Create classical register to measure control qubits\n",
    "measurement = ClassicalRegister(t)\n",
    "\n",
    "#Create cirucit\n",
    "qc5=QuantumCircuit(control, target, measurement) \n",
    "\n",
    "#Set target qubit to state |1>\n",
    "#Remember, we're not using the qiskit qubit ordering convention now -- see the qc1.reverse_bits() line below \n",
    "qc5.x(target[n-1])\n",
    "\n",
    "#Create operator CU\n",
    "x=3\n",
    "N=20\n",
    "uU=Ux(x,N)\n",
    "\n",
    "print(\"Assembling QPE circuit\")\n",
    "#Apply QPE\n",
    "qpe(t,control, target, qc5, uU)\n",
    "\n",
    "# Measure control qubits\n",
    "qc5.measure(control, measurement)\n",
    "\n",
    "\n",
    "# Reverse target (and every other) qubits\n",
    "qc5=qc5.reverse_bits()\n",
    "\n",
    "\n",
    "# Run circuit on AerSimulator\n",
    "print(\"Running job\")\n",
    "qc5=transpile(qc5, AerSimulator())\n",
    "backend = AerSimulator(max_parallel_threads=8, max_parallel_experiments=1)\n",
    "job = backend.run(qc5, shots=1000)\n",
    "counts = job.result().get_counts()\n",
    "\n",
    "# Convert binary strings to integers\n",
    "counts_int=dict((int(key,2), value) for (key, value) in counts.items())                     \n",
    "\n",
    "# Print a histogram of results\n",
    "print(counts_int)\n",
    "display(plot_histogram(counts_int))\n"
   ]
  },
  {
   "cell_type": "markdown",
   "metadata": {},
   "source": [
    "<a id=\"task6\"></a>\n",
    "<h3>Task 6</h3>\n",
    "\n",
    "For each one of the possible outcomes in Task 5, try to find out the value of $r$ using continued fractions algorithm. You can use the functions defined above."
   ]
  },
  {
   "cell_type": "markdown",
   "metadata": {},
   "source": [
    "<h3>Solution</h3>"
   ]
  },
  {
   "cell_type": "markdown",
   "metadata": {},
   "source": [
    "The outcomes are 0, 4096, 8192 and 12288."
   ]
  },
  {
   "cell_type": "markdown",
   "metadata": {},
   "source": [
    "- From 0, we don't get any meaningful result.\n",
    "\n",
    "- Let's check $\\frac{4096}{2^{14}}$."
   ]
  },
  {
   "cell_type": "code",
   "execution_count": null,
   "metadata": {},
   "outputs": [],
   "source": [
    "%run ../include/helpers.py"
   ]
  },
  {
   "cell_type": "code",
   "execution_count": null,
   "metadata": {
    "scrolled": true
   },
   "outputs": [],
   "source": [
    "cf = contFrac(4096/2**14)\n",
    "cv = convergents(cf)\n",
    "print(cv)"
   ]
  },
  {
   "cell_type": "markdown",
   "metadata": {},
   "source": [
    "The candidate is $s'=1$ and $r'=4$. Indeed 4 is the answer. Let's check the other cases as well."
   ]
  },
  {
   "cell_type": "code",
   "execution_count": null,
   "metadata": {
    "scrolled": true
   },
   "outputs": [],
   "source": [
    "cf = contFrac(8192/2**14)\n",
    "cv = convergents(cf)\n",
    "print(cv)"
   ]
  },
  {
   "cell_type": "markdown",
   "metadata": {},
   "source": [
    "From 8192, we can not get the correct result. The reason is that $s=2$ and $r=4$ which are not relatively prime and as a result we get $s'=1$ and $r'=2$."
   ]
  },
  {
   "cell_type": "code",
   "execution_count": null,
   "metadata": {
    "scrolled": true
   },
   "outputs": [],
   "source": [
    "cf = contFrac(12288/2**14)\n",
    "cv = convergents(cf)\n",
    "print(cv)"
   ]
  },
  {
   "cell_type": "markdown",
   "metadata": {},
   "source": [
    "The candidate is $s'=3$ and $r'=4$. We get the correct result."
   ]
  },
  {
   "cell_type": "markdown",
   "metadata": {},
   "source": [
    "<a id=\"task7\"></a>\n",
    "<h3>Task 7</h3>\n",
    "\n",
    "Repeat Task 5 and Task 6 with $x$=10 and $N=21$."
   ]
  },
  {
   "cell_type": "markdown",
   "metadata": {},
   "source": [
    "<h3>Solution</h3>"
   ]
  },
  {
   "cell_type": "code",
   "execution_count": null,
   "metadata": {},
   "outputs": [],
   "source": [
    "%run ux_operator.py"
   ]
  },
  {
   "cell_type": "code",
   "execution_count": null,
   "metadata": {},
   "outputs": [],
   "source": [
    "# %load qpe.py\n",
    "from qiskit import QuantumRegister, ClassicalRegister, QuantumCircuit\n",
    "from qiskit_aer import AerSimulator\n",
    "from qiskit.circuit.library import UnitaryGate\n",
    "\n",
    "def qpe(t,control, target, circuit, uU):\n",
    "    \n",
    "    #Apply Hadamard to control qubits\n",
    "    for qb in control:\n",
    "        circuit.h(qb)\n",
    "    \n",
    "    for i in range(t):\n",
    "        # Assemble list of control and target qubits\n",
    "        qubits=[control[t-i-1]]\n",
    "        for qq in target:\n",
    "            qubits.append(qq)\n",
    "\n",
    "        # Apply CU gates\n",
    "        circuit.append(UnitaryGate(uU).power(2**i).control(),qubits)\n",
    "       \n",
    "    #Apply inverse QFT\n",
    "    iqft(t,control,circuit)"
   ]
  },
  {
   "cell_type": "code",
   "execution_count": null,
   "metadata": {},
   "outputs": [],
   "source": [
    "# %load iqft.py\n",
    "from qiskit import QuantumRegister, ClassicalRegister, QuantumCircuit\n",
    "from qiskit_aer import AerSimulator\n",
    "from math import pi\n",
    "\n",
    "def iqft(n, qubits, circuit):\n",
    "    #Swap the qubits\n",
    "    for i in range(n//2):\n",
    "        circuit.swap(qubits[i],qubits[n-i-1])     \n",
    "        \n",
    "    #For each qubit\n",
    "    for i in range(n-1,-1,-1):\n",
    "        #Apply CR_k gates where j is the control and i is the target\n",
    "        k=n-i #We start with k=n-i\n",
    "        for j in range(n-1,i,-1):\n",
    "            #Apply CR_k gate  \n",
    "            circuit.cp(-pi*2/2**(k), qubits[j],qubits[i])\n",
    "            k=k-1 #Dencrement k at each step\n",
    " \n",
    "        #Apply Hadamard to the qubit\n",
    "        circuit.h(qubits[i])\n"
   ]
  },
  {
   "cell_type": "markdown",
   "metadata": {},
   "source": [
    "$t$ should be picked as $2L + 1 + \\big \\lceil \\log \\big( 2 + \\frac{1}{2\\epsilon} \\big) \\big \\rceil$. Let $\\epsilon=0.1$. First let's find $L$."
   ]
  },
  {
   "cell_type": "code",
   "execution_count": null,
   "metadata": {
    "scrolled": true
   },
   "outputs": [],
   "source": [
    "import math\n",
    "L=math.ceil(math.log2(21))\n",
    "print(L)"
   ]
  },
  {
   "cell_type": "markdown",
   "metadata": {},
   "source": [
    "$ L= \\big \\lceil  \\log N \\big \\rceil $ = $ L= \\big \\lceil  \\log 21 \\big \\rceil =5.$"
   ]
  },
  {
   "cell_type": "code",
   "execution_count": null,
   "metadata": {
    "scrolled": true
   },
   "outputs": [],
   "source": [
    "e = 0.1\n",
    "num_t = 2*L+1+math.ceil(math.log2(2+1/(2*e)))\n",
    "print(num_t)"
   ]
  },
  {
   "cell_type": "code",
   "execution_count": null,
   "metadata": {
    "scrolled": true
   },
   "outputs": [],
   "source": [
    "from qiskit import QuantumRegister, ClassicalRegister, QuantumCircuit\n",
    "from qiskit import transpile\n",
    "from qiskit_aer import AerSimulator\n",
    "from qiskit.visualization import plot_histogram\n",
    "\n",
    "#Set n and t\n",
    "#Assign the size of the registers\n",
    "t=num_t #Number of qubits in the control register\n",
    "n=L #Number of qubits in the register storing eigenvector\n",
    "\n",
    "#Create t qubits of the control register\n",
    "control = QuantumRegister(t)\n",
    "\n",
    "#Create n qubits of the target register\n",
    "target = QuantumRegister(n)\n",
    "\n",
    "#Create classical register to measure control qubits\n",
    "measurement = ClassicalRegister(t)\n",
    "\n",
    "#Create cirucit\n",
    "qc7=QuantumCircuit(control, target, measurement) \n",
    "\n",
    "#Set target qubit to state |1>\n",
    "qc7.x(target[n-1])\n",
    "\n",
    "#Create operator uU\n",
    "x=10\n",
    "N=21\n",
    "uU=Ux(x,N)\n",
    "\n",
    "#Apply QPE\n",
    "qpe(t,control, target, qc7, uU)\n",
    "\n",
    "# Measure control qubits\n",
    "qc7.measure(control, measurement)\n",
    "\n",
    "# Reverse target (and every other) qubits\n",
    "qc7=qc7.reverse_bits()\n",
    "\n",
    "# Run job on AerSimulator\n",
    "qc7 = transpile(qc7, AerSimulator())\n",
    "job = AerSimulator().run(qc7,shots=1000)\n",
    "counts = job.result().get_counts(qc7)\n",
    "\n",
    "# Convert binary strings to integers\n",
    "counts=dict((int(key,2), value) for (key, value) in counts.items())                     \n",
    "\n",
    "# Print a histogram of results\n",
    "display(plot_histogram(counts))"
   ]
  },
  {
   "cell_type": "code",
   "execution_count": null,
   "metadata": {},
   "outputs": [],
   "source": [
    "# sort count rates\n",
    "counts_sorted=dict(sorted(counts.items(), key=lambda x: x[1], reverse=True))\n",
    "print(counts_sorted)"
   ]
  },
  {
   "cell_type": "markdown",
   "metadata": {},
   "source": [
    "The peaks occur at 0, 2731, 5461, 8192, 10923, 13653."
   ]
  },
  {
   "cell_type": "markdown",
   "metadata": {},
   "source": [
    "- From 0, we don't get any meaningful result.\n",
    "\n",
    "- Let's check $\\frac{13107}{2^{16}}$."
   ]
  },
  {
   "cell_type": "code",
   "execution_count": null,
   "metadata": {},
   "outputs": [],
   "source": [
    "%run ../include/helpers.py"
   ]
  },
  {
   "cell_type": "code",
   "execution_count": null,
   "metadata": {
    "scrolled": true
   },
   "outputs": [],
   "source": [
    "cf = contFrac(2731/2**14)\n",
    "cv = convergents(cf)\n",
    "print(cv)"
   ]
  },
  {
   "cell_type": "markdown",
   "metadata": {},
   "source": [
    "The candidates are $s'=1$, $r'=5$ and $s''=1$, $r''=6$. Indeed the answer is 6. "
   ]
  },
  {
   "cell_type": "code",
   "execution_count": null,
   "metadata": {
    "scrolled": true
   },
   "outputs": [],
   "source": [
    "cf = contFrac(5461/2**14)\n",
    "cv = convergents(cf)\n",
    "print(cv)"
   ]
  },
  {
   "cell_type": "markdown",
   "metadata": {},
   "source": [
    "From 5461, we can not get the correct result. The reason is that $s=4$ and $r=6$ which are not relatively prime and as a result we get $s'=2$ and $r'=3$."
   ]
  },
  {
   "cell_type": "code",
   "execution_count": null,
   "metadata": {
    "scrolled": true
   },
   "outputs": [],
   "source": [
    "cf = contFrac(8192/2**14)\n",
    "cv = convergents(cf)\n",
    "print(cv)"
   ]
  },
  {
   "cell_type": "markdown",
   "metadata": {},
   "source": [
    "From 8192, we can not get the correct result. The reason is that $s=3$ and $r=6$ which are not relatively prime and as a result we get $s'=1$ and $r'=2$."
   ]
  },
  {
   "cell_type": "code",
   "execution_count": null,
   "metadata": {
    "scrolled": true
   },
   "outputs": [],
   "source": [
    "cf = contFrac(10923/2**14)\n",
    "cv = convergents(cf)\n",
    "print(cv)"
   ]
  },
  {
   "cell_type": "markdown",
   "metadata": {},
   "source": [
    "From 10923, we can not get the correct result. The reason is that $s=4$ and $r=6$ which are not relatively prime and as a result we get $s'=2$ and $r'=3$."
   ]
  },
  {
   "cell_type": "code",
   "execution_count": null,
   "metadata": {
    "scrolled": true
   },
   "outputs": [],
   "source": [
    "cf = contFrac(13653/2**14)\n",
    "cv = convergents(cf)\n",
    "print(cv)"
   ]
  },
  {
   "cell_type": "markdown",
   "metadata": {},
   "source": [
    "The candidates are $s'=4$, $r'=5$ and $s''=5$, $r''=6$."
   ]
  }
 ],
 "metadata": {
  "kernelspec": {
   "display_name": "Python 3 (ipykernel)",
   "language": "python",
   "name": "python3"
  },
  "language_info": {
   "codemirror_mode": {
    "name": "ipython",
    "version": 3
   },
   "file_extension": ".py",
   "mimetype": "text/x-python",
   "name": "python",
   "nbconvert_exporter": "python",
   "pygments_lexer": "ipython3",
   "version": "3.13.7"
  }
 },
 "nbformat": 4,
 "nbformat_minor": 4
}
