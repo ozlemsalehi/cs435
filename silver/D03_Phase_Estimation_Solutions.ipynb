{
 "cells": [
  {
   "cell_type": "markdown",
   "metadata": {},
   "source": [
    "\n",
    "<a href=\"https://qworld.net\" target=\"_blank\" align=\"left\"><img src=\"../qworld/images/header.jpg\"  align=\"left\"></a>\n",
    "<table  align=\"left\" width=\"100%\"> <tr>\n",
    "        <td  align=\"right\" style=\"background-color:#ffffff;vertical-align:bottom;horizontal-align:right\">\n",
    "            prepared by Özlem Salehi (<a href=\"http://qworld.lu.lv/index.php/qturkey/\" target=\"_blank\">QTurkey</a>)\n",
    "        </td>        \n",
    "</tr></table>"
   ]
  },
  {
   "cell_type": "markdown",
   "metadata": {},
   "source": [
    "<table width=\"100%\"><tr><td style=\"color:#bbbbbb;background-color:#ffffff;font-size:11px;font-style:italic;text-align:right;\">This cell contains some macros. If there is a problem with displaying mathematical formulas, please run this cell to load these macros. </td></tr></table>\n",
    "$ \\newcommand{\\bra}[1]{\\langle #1|} $\n",
    "$ \\newcommand{\\ket}[1]{|#1\\rangle} $\n",
    "$ \\newcommand{\\braket}[2]{\\langle #1|#2\\rangle} $\n",
    "$ \\newcommand{\\dot}[2]{ #1 \\cdot #2} $\n",
    "$ \\newcommand{\\biginner}[2]{\\left\\langle #1,#2\\right\\rangle} $\n",
    "$ \\newcommand{\\mymatrix}[2]{\\left( \\begin{array}{#1} #2\\end{array} \\right)} $\n",
    "$ \\newcommand{\\myvector}[1]{\\mymatrix{c}{#1}} $\n",
    "$ \\newcommand{\\myrvector}[1]{\\mymatrix{r}{#1}} $\n",
    "$ \\newcommand{\\mypar}[1]{\\left( #1 \\right)} $\n",
    "$ \\newcommand{\\mybigpar}[1]{ \\Big( #1 \\Big)} $\n",
    "$ \\newcommand{\\sqrttwo}{\\frac{1}{\\sqrt{2}}} $\n",
    "$ \\newcommand{\\dsqrttwo}{\\dfrac{1}{\\sqrt{2}}} $\n",
    "$ \\newcommand{\\onehalf}{\\frac{1}{2}} $\n",
    "$ \\newcommand{\\donehalf}{\\dfrac{1}{2}} $\n",
    "$ \\newcommand{\\hadamard}{ \\mymatrix{rr}{ \\sqrttwo & \\sqrttwo \\\\ \\sqrttwo & -\\sqrttwo }} $\n",
    "$ \\newcommand{\\vzero}{\\myvector{1\\\\0}} $\n",
    "$ \\newcommand{\\vone}{\\myvector{0\\\\1}} $\n",
    "$ \\newcommand{\\stateplus}{\\myvector{ \\sqrttwo \\\\  \\sqrttwo } } $\n",
    "$ \\newcommand{\\stateminus}{ \\myrvector{ \\sqrttwo \\\\ -\\sqrttwo } } $\n",
    "$ \\newcommand{\\myarray}[2]{ \\begin{array}{#1}#2\\end{array}} $\n",
    "$ \\newcommand{\\X}{ \\mymatrix{cc}{0 & 1 \\\\ 1 & 0}  } $\n",
    "$ \\newcommand{\\Z}{ \\mymatrix{rr}{1 & 0 \\\\ 0 & -1}  } $\n",
    "$ \\newcommand{\\Htwo}{ \\mymatrix{rrrr}{ \\frac{1}{2} & \\frac{1}{2} & \\frac{1}{2} & \\frac{1}{2} \\\\ \\frac{1}{2} & -\\frac{1}{2} & \\frac{1}{2} & -\\frac{1}{2} \\\\ \\frac{1}{2} & \\frac{1}{2} & -\\frac{1}{2} & -\\frac{1}{2} \\\\ \\frac{1}{2} & -\\frac{1}{2} & -\\frac{1}{2} & \\frac{1}{2} } } $\n",
    "$ \\newcommand{\\CNOT}{ \\mymatrix{cccc}{1 & 0 & 0 & 0 \\\\ 0 & 1 & 0 & 0 \\\\ 0 & 0 & 0 & 1 \\\\ 0 & 0 & 1 & 0} } $\n",
    "$ \\newcommand{\\norm}[1]{ \\left\\lVert #1 \\right\\rVert } $\n",
    "$ \\newcommand{\\pstate}[1]{ \\lceil \\mspace{-1mu} #1 \\mspace{-1.5mu} \\rfloor } $"
   ]
  },
  {
   "cell_type": "markdown",
   "metadata": {},
   "source": [
    "<h1> <font color=\"blue\"> Solutions for </font> Phase Estimation</h1>"
   ]
  },
  {
   "cell_type": "markdown",
   "metadata": {},
   "source": [
    "<h3>Task 1 (on paper)</h3>\n",
    "<a id=\"task1\"></a>\n",
    "\n",
    "Show that $\\ket{-}$ and $\\ket{+}$ are eigenvectors for the $X$ operator with eigenvalues -1 and 1 respectively."
   ]
  },
  {
   "cell_type": "markdown",
   "metadata": {},
   "source": [
    "<h3>Solution </h3>"
   ]
  },
  {
   "cell_type": "markdown",
   "metadata": {},
   "source": [
    "\n",
    "\n",
    "\\begin{align*}\n",
    "X \\ket{-} = X \\frac {\\ket{0} - \\ket{1}} {\\sqrt{2}}\n",
    "& =  \\frac {\\ket{1} - \\ket{0}} {\\sqrt{2}}\\\\\n",
    "& = -\\frac {\\ket{0} - \\ket{1}} {\\sqrt{2}}\\\\\n",
    "& = -\\ket{-}\n",
    "\\end{align*}\n",
    "\n",
    "\n",
    "\\begin{align*}\n",
    "X \\ket{+} = X \\frac {\\ket{0} + \\ket{1}} {\\sqrt{2}}\n",
    "& =  \\frac {\\ket{1} + \\ket{0}} {\\sqrt{2}}\\\\\n",
    "& = \\frac {\\ket{0} + \\ket{1}} {\\sqrt{2}}\\\\\n",
    "& = \\ket{+}\n",
    "\\end{align*}\n",
    "\n",
    "Hence $ \\ket{-}$ and $\\ket{+}$ are eigenvectors of $ X $ operator with the eigenvalues -1 and 1 respectively."
   ]
  },
  {
   "cell_type": "markdown",
   "metadata": {},
   "source": [
    "<h3>Task 2 (on paper)</h3>\n",
    "<a id=\"task2\"></a>\n",
    "\n",
    "Consider the following quantum state where $ x=0 $ or $ 1 $. How can you find out the value of $x$ by applying a single operator?\n",
    "\n",
    "$$ \n",
    "\\frac {\\ket{0} + (-1)^x \\ket{1}} {\\sqrt{2}}\n",
    "$$\n"
   ]
  },
  {
   "cell_type": "markdown",
   "metadata": {},
   "source": [
    "<h3>Solution </h3>"
   ]
  },
  {
   "cell_type": "markdown",
   "metadata": {},
   "source": [
    "If our aim is to find out $ x $, then applying a Hadamard gate we can determine whether $ x=0 $ or $ 1 $ depending on the outcome. If the outcome is $ \\ket{0} $, then $ x=0 $ and if the outcome is $ \\ket{1} $, then $ x=1 $."
   ]
  },
  {
   "cell_type": "markdown",
   "metadata": {},
   "source": [
    "<a id=\"task3\"></a>\n",
    "<h3>Task 3</h3>\n",
    "\n",
    "Consider the unitary operator $U$ with eigenvector $\\ket{1}$ and eigenvalue $e^{2\\pi i \\phi}$ where $\\phi = \\frac{5}{16}$. "
   ]
  },
  {
   "cell_type": "code",
   "execution_count": null,
   "metadata": {},
   "outputs": [],
   "source": [
    "from qiskit.circuit.library import PhaseGate\n",
    "from qiskit.quantum_info.operators import Operator\n",
    "from math import pi\n",
    "\n",
    "phase = 5/16\n",
    "U = Operator(PhaseGate(2*pi*phase)) #We need a 2*pi since CP adds a phase of e^{i \\phi}"
   ]
  },
  {
   "cell_type": "markdown",
   "metadata": {},
   "source": [
    "$CU$ operator can be realized by the syntax: `U.control()`, whereby the qubit 0 is the control, and $U$ is applied whenever the control qubit is in the $\\ket1$ state. We define $U$ as an operator, so that we can raise it to powers of $2^k$ conveniently by the method $U.dot(U)$"
   ]
  },
  {
   "cell_type": "markdown",
   "metadata": {},
   "source": [
    "Pick $t=4$ and implement the phase estimation circuit to estimate $\\phi$. Write a function named <i>qpe</i> which takes as parameters <i>t</i>, <i>control</i> qubits, <i>target</i> qubits, <i>circuit</i> and the operator <i>CU</i>.\n",
    "\n",
    "Note that you will get an exact result since $t=4$ is precise enough."
   ]
  },
  {
   "cell_type": "markdown",
   "metadata": {},
   "source": [
    "<i>Remarks:</i>\n",
    "\n",
    "- You can apply arithmetical operations to gates, such as taking powers or inverses.\n",
    "- To apply $QFT^{\\dagger}$, you can use the function you have written in the previous notebook.\n",
    "- Some code is already given to guide you.\n"
   ]
  },
  {
   "cell_type": "markdown",
   "metadata": {},
   "source": [
    "<h3>Solution </h3>"
   ]
  },
  {
   "cell_type": "code",
   "execution_count": null,
   "metadata": {},
   "outputs": [],
   "source": [
    "#%%loadfile iqft.py\n",
    "from qiskit import QuantumRegister, ClassicalRegister, QuantumCircuit\n",
    "from qiskit_aer import AerSimulator\n",
    "from math import pi\n",
    "\n",
    "def iqft(n, qubits, circuit):\n",
    "    #Swap the qubits\n",
    "    for i in range(n//2):\n",
    "        circuit.swap(qubits[i],qubits[n-i-1])     \n",
    "        \n",
    "    #For each qubit\n",
    "    for i in range(n-1,-1,-1):\n",
    "        #Apply CR_k gates where j is the control and i is the target\n",
    "        k=n-i #We start with k=n-i\n",
    "        for j in range(n-1,i,-1):\n",
    "            #Apply CR_k gate  \n",
    "            circuit.cp(-pi*2/2**(k), qubits[j],qubits[i])\n",
    "            k=k-1 #Decrement k at each step\n",
    " \n",
    "        #Apply Hadamard to the qubit\n",
    "        circuit.h(qubits[i])"
   ]
  },
  {
   "cell_type": "code",
   "execution_count": null,
   "metadata": {},
   "outputs": [],
   "source": [
    "#%%writefile qpe.py\n",
    "from qiskit import QuantumRegister, ClassicalRegister, QuantumCircuit\n",
    "from qiskit_aer import AerSimulator\n",
    "from qiskit.circuit.library import UnitaryGate\n",
    "\n",
    "def qpe(t,control, target, circuit, U):\n",
    "    \n",
    "    #Apply Hadamard to control qubits\n",
    "    for qb in control:\n",
    "        circuit.h(qb)\n",
    "    \n",
    "    # raise U on the appropriate power\n",
    "    power=1\n",
    "    for i in range(t):\n",
    "        # Assemble list of control and target qubits\n",
    "        qubits=[control[t-i-1]]\n",
    "        for qq in target:\n",
    "            qubits.append(qq)\n",
    "\n",
    "        # Apply CU gates\n",
    "        circuit.append(UnitaryGate(U).control(),qubits)\n",
    "\n",
    "        # Increase the power of U for next iteration\n",
    "        U=Operator(UnitaryGate(U.dot(U)))\n",
    "        power=power*2\n",
    "       \n",
    "    #Apply inverse QFT\n",
    "    iqft(t,control,circuit)"
   ]
  },
  {
   "cell_type": "code",
   "execution_count": null,
   "metadata": {},
   "outputs": [],
   "source": [
    "from qiskit import QuantumRegister, ClassicalRegister, QuantumCircuit, transpile\n",
    "from qiskit_aer import AerSimulator\n",
    "\n",
    "#Set n and t\n",
    "t=4 #Number of qubits in the control register\n",
    "n=1 #Number of qubits in the register storing eigenvector\n",
    "\n",
    "#Create t qubits of the control register\n",
    "control = QuantumRegister(t)\n",
    "\n",
    "#Create n qubits of the target register\n",
    "target = QuantumRegister(n)\n",
    "\n",
    "#Create classical register to measure control qubits\n",
    "measurement = ClassicalRegister(t)\n",
    "\n",
    "#Create cirucit\n",
    "qc1=QuantumCircuit(control, target, measurement) \n",
    "\n",
    "#Set target qubit to state |1>\n",
    "qc1.x(target[0])\n",
    "\n",
    "#Apply QPE\n",
    "qpe(t,control, target, qc1, U)\n",
    "\n",
    "# Measure control qubits\n",
    "qc1.measure(control, measurement)\n",
    "\n",
    "\n",
    "# Reverse target (and every other) qubits\n",
    "qc1=qc1.reverse_bits()\n",
    "qc1_transpiled = transpile(qc1, AerSimulator())\n",
    "job = AerSimulator().run(qc1_transpiled,shots=1000)\n",
    "counts = job.result().get_counts(qc1_transpiled)\n",
    "print(counts)                        \n"
   ]
  },
  {
   "cell_type": "markdown",
   "metadata": {},
   "source": [
    "<a id=\"task4\"></a>\n",
    "<h3>Task 4</h3>\n",
    "\n",
    "Try Task 3 this time by setting $t=3$. What do you expect to see?"
   ]
  },
  {
   "cell_type": "markdown",
   "metadata": {},
   "source": [
    "<h3>Solution </h3>"
   ]
  },
  {
   "cell_type": "code",
   "execution_count": null,
   "metadata": {
    "scrolled": true
   },
   "outputs": [],
   "source": [
    "from qiskit import QuantumRegister, ClassicalRegister, QuantumCircuit, transpile\n",
    "from qiskit_aer import AerSimulator\n",
    "from qiskit.visualization import plot_histogram\n",
    "\n",
    "t=3 #Number of qubits in the control register\n",
    "n=1 #Number of qubits in the register storing eigenvector\n",
    "\n",
    "#Create t qubits of the control register\n",
    "control2 = QuantumRegister(t)\n",
    "\n",
    "#Create n qubits of the target register\n",
    "target2 = QuantumRegister(n)\n",
    "\n",
    "#Create classical circuit to measure control qubits\n",
    "measurement2 = ClassicalRegister(t)\n",
    "\n",
    "#Create cirucit\n",
    "qc2=QuantumCircuit(control2, target2, measurement2) \n",
    "\n",
    "#Set target qubit to state |1>\n",
    "qc2.x(target2[0])\n",
    "\n",
    "#Apply QPE\n",
    "qpe(t,control2, target2, qc2, U)\n",
    "\n",
    "# Measure control qubits\n",
    "qc2.measure(control2, measurement2)\n",
    "\n",
    "qc2=qc2.reverse_bits()\n",
    "qc2_transpiled = transpile(qc2, AerSimulator())\n",
    "job = AerSimulator().run(qc2_transpiled,shots=1000)\n",
    "counts = job.result().get_counts(qc2_transpiled)\n",
    "display(plot_histogram(counts))\n",
    "print(counts)\n"
   ]
  },
  {
   "cell_type": "markdown",
   "metadata": {},
   "source": [
    "<a id=\"task5\"></a>\n",
    "<h3>Task 5</h3>\n",
    "\n",
    "Try Task 3 this time by setting $\\phi=0.685$. Calculate and print the estimates for different $t$ values between 1 and 10. "
   ]
  },
  {
   "cell_type": "markdown",
   "metadata": {},
   "source": [
    "<h3>Solution </h3>"
   ]
  },
  {
   "cell_type": "code",
   "execution_count": null,
   "metadata": {},
   "outputs": [],
   "source": [
    "from qiskit.circuit.library import PhaseGate\n",
    "from qiskit.quantum_info.operators import Operator\n",
    "from math import pi\n",
    "\n",
    "phase = 0.685\n",
    "U=Operator(PhaseGate(2*pi*phase))"
   ]
  },
  {
   "cell_type": "code",
   "execution_count": null,
   "metadata": {
    "scrolled": true
   },
   "outputs": [],
   "source": [
    "from qiskit import QuantumRegister, ClassicalRegister, QuantumCircuit, transpile\n",
    "from qiskit_aer import AerSimulator\n",
    "from qiskit.visualization import plot_histogram\n",
    "\n",
    "n=1 #Number of qubits in the register storing eigenvector\n",
    "\n",
    "for t in range (1,10):\n",
    "\n",
    "    #Create t qubits of the control register\n",
    "    control3 = QuantumRegister(t)\n",
    "\n",
    "    #Create n qubits of the target register\n",
    "    target3 = QuantumRegister(n)\n",
    "\n",
    "    #Create classical circuit to measure control qubits\n",
    "    measurement3 = ClassicalRegister(t)\n",
    "\n",
    "    #Create cirucit\n",
    "    qc3=QuantumCircuit(control3, target3, measurement3) \n",
    "\n",
    "    #Set target qubit to state |1>\n",
    "    qc3.x(target3[0])\n",
    "\n",
    "    #Apply QPE\n",
    "    qpe(t,control3, target3, qc3, U)\n",
    "\n",
    "    # Measure control qubits\n",
    "    qc3.measure(control3, measurement3)\n",
    "\n",
    "    qc3=qc3.reverse_bits()\n",
    "    qc3_transpiled = transpile(qc3, AerSimulator())\n",
    "    job = AerSimulator().run(qc3_transpiled,shots=1000)\n",
    "    counts = job.result().get_counts(qc3_transpiled)\n",
    "    #display(plot_histogram(counts))\n",
    "\n",
    "    # Most frequent observation\n",
    "    freq=int(max(counts.keys(), key=(lambda new_k: counts[new_k])), 2)\n",
    "    print(\"t:\", t,\"estimation:\", freq/2**t)\n",
    "    "
   ]
  },
  {
   "cell_type": "code",
   "execution_count": null,
   "metadata": {},
   "outputs": [],
   "source": [
    "max(counts.keys(), key=(lambda new_k: counts[new_k]))\n",
    "max(counts)"
   ]
  },
  {
   "cell_type": "markdown",
   "metadata": {},
   "source": [
    "<a id=\"task6\"></a>\n",
    "<h3>Task 6</h3>\n",
    "\n",
    "You are given an operator $U$ with eigenvector $\\ket{11}$ and eigenvalue $\\phi$, which is this time unknown to you. Use phase estimation to estimate $\\phi$ by trying different $t$ values. \n",
    "\n",
    "Run the following cell to load operator $U$"
   ]
  },
  {
   "cell_type": "code",
   "execution_count": null,
   "metadata": {},
   "outputs": [],
   "source": [
    "%run estimate_operator.py"
   ]
  },
  {
   "cell_type": "markdown",
   "metadata": {},
   "source": [
    "<h3>Solution </h3>"
   ]
  },
  {
   "cell_type": "code",
   "execution_count": null,
   "metadata": {},
   "outputs": [],
   "source": [
    "from qiskit import QuantumRegister, ClassicalRegister, QuantumCircuit\n",
    "from qiskit_aer import AerSimulator\n",
    "from qiskit.visualization import plot_histogram\n",
    "\n",
    "n=2 #Number of qubits in the register storing eigenvector\n",
    "\n",
    "for t in range (1,10):\n",
    "\n",
    "    #Create t qubits of the control register\n",
    "    control4 = QuantumRegister(t)\n",
    "\n",
    "    #Create n qubits of the target register\n",
    "    target4 = QuantumRegister(n)\n",
    "\n",
    "    #Create classical circuit to measure control qubits\n",
    "    measurement4 = ClassicalRegister(t)\n",
    "\n",
    "    #Create cirucit\n",
    "    qc4=QuantumCircuit(control4, target4, measurement4) \n",
    "\n",
    "    #Set target qubit to state |1>\n",
    "    qc4.x(target4[0])\n",
    "    qc4.x(target4[1])\n",
    "\n",
    "    #Apply QPE\n",
    "    qpe(t,control4, target4, qc4, U)\n",
    "\n",
    "    # Measure control qubits\n",
    "    qc4.measure(control4, measurement4)\n",
    "\n",
    "    qc4=qc4.reverse_bits()\n",
    "    qc4_transpiled = transpile(qc4, AerSimulator())\n",
    "    job = AerSimulator().run(qc4_transpiled,shots=1000)\n",
    "    counts = job.result().get_counts(qc4_transpiled)\n",
    "#    display(plot_histogram(counts))\n",
    "  \n",
    "    # Most frequent observation\n",
    "    freq=int(max(counts.keys(), key=(lambda new_k: counts[new_k])), 2)\n",
    "    print(\"t:\", t,\"estimation:\", freq/2**t)\n",
    "    "
   ]
  }
 ],
 "metadata": {
  "kernelspec": {
   "display_name": "Python 3 (ipykernel)",
   "language": "python",
   "name": "python3"
  },
  "language_info": {
   "codemirror_mode": {
    "name": "ipython",
    "version": 3
   },
   "file_extension": ".py",
   "mimetype": "text/x-python",
   "name": "python",
   "nbconvert_exporter": "python",
   "pygments_lexer": "ipython3",
   "version": "3.13.7"
  }
 },
 "nbformat": 4,
 "nbformat_minor": 4
}
