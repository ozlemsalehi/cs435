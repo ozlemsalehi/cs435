{
 "cells": [
  {
   "cell_type": "markdown",
   "metadata": {},
   "source": [
    "\n",
    "<a href=\"https://qworld.net\" target=\"_blank\" align=\"left\"><img src=\"../qworld/images/header.jpg\"  align=\"left\"></a>\n",
    "<table  align=\"left\" width=\"100%\"> <tr>\n",
    "        <td  align=\"right\" style=\"background-color:#ffffff;vertical-align:bottom;horizontal-align:right\">\n",
    "            prepared by Özlem Salehi (<a href=\"http://qworld.lu.lv/index.php/qturkey/\" target=\"_blank\">QTurkey</a>)\n",
    "        </td>        \n",
    "</tr></table>"
   ]
  },
  {
   "cell_type": "markdown",
   "metadata": {},
   "source": [
    "<table width=\"100%\"><tr><td style=\"color:#bbbbbb;background-color:#ffffff;font-size:11px;font-style:italic;text-align:right;\">This cell contains some macros. If there is a problem with displaying mathematical formulas, please run this cell to load these macros. </td></tr></table>\n",
    "$\\newcommand{\\Mod}[1]{\\ (\\mathrm{mod}\\ #1)}$\n",
    "$ \\newcommand{\\bra}[1]{\\langle #1|} $\n",
    "$ \\newcommand{\\ket}[1]{|#1\\rangle} $\n",
    "$ \\newcommand{\\braket}[2]{\\langle #1|#2\\rangle} $\n",
    "$ \\newcommand{\\dot}[2]{ #1 \\cdot #2} $\n",
    "$ \\newcommand{\\biginner}[2]{\\left\\langle #1,#2\\right\\rangle} $\n",
    "$ \\newcommand{\\mymatrix}[2]{\\left( \\begin{array}{#1} #2\\end{array} \\right)} $\n",
    "$ \\newcommand{\\myvector}[1]{\\mymatrix{c}{#1}} $\n",
    "$ \\newcommand{\\myrvector}[1]{\\mymatrix{r}{#1}} $\n",
    "$ \\newcommand{\\mypar}[1]{\\left( #1 \\right)} $\n",
    "$ \\newcommand{\\mybigpar}[1]{ \\Big( #1 \\Big)} $\n",
    "$ \\newcommand{\\sqrttwo}{\\frac{1}{\\sqrt{2}}} $\n",
    "$ \\newcommand{\\dsqrttwo}{\\dfrac{1}{\\sqrt{2}}} $\n",
    "$ \\newcommand{\\onehalf}{\\frac{1}{2}} $\n",
    "$ \\newcommand{\\donehalf}{\\dfrac{1}{2}} $\n",
    "$ \\newcommand{\\hadamard}{ \\mymatrix{rr}{ \\sqrttwo & \\sqrttwo \\\\ \\sqrttwo & -\\sqrttwo }} $\n",
    "$ \\newcommand{\\vzero}{\\myvector{1\\\\0}} $\n",
    "$ \\newcommand{\\vone}{\\myvector{0\\\\1}} $\n",
    "$ \\newcommand{\\stateplus}{\\myvector{ \\sqrttwo \\\\  \\sqrttwo } } $\n",
    "$ \\newcommand{\\stateminus}{ \\myrvector{ \\sqrttwo \\\\ -\\sqrttwo } } $\n",
    "$ \\newcommand{\\myarray}[2]{ \\begin{array}{#1}#2\\end{array}} $\n",
    "$ \\newcommand{\\X}{ \\mymatrix{cc}{0 & 1 \\\\ 1 & 0}  } $\n",
    "$ \\newcommand{\\Z}{ \\mymatrix{rr}{1 & 0 \\\\ 0 & -1}  } $\n",
    "$ \\newcommand{\\Htwo}{ \\mymatrix{rrrr}{ \\frac{1}{2} & \\frac{1}{2} & \\frac{1}{2} & \\frac{1}{2} \\\\ \\frac{1}{2} & -\\frac{1}{2} & \\frac{1}{2} & -\\frac{1}{2} \\\\ \\frac{1}{2} & \\frac{1}{2} & -\\frac{1}{2} & -\\frac{1}{2} \\\\ \\frac{1}{2} & -\\frac{1}{2} & -\\frac{1}{2} & \\frac{1}{2} } } $\n",
    "$ \\newcommand{\\CNOT}{ \\mymatrix{cccc}{1 & 0 & 0 & 0 \\\\ 0 & 1 & 0 & 0 \\\\ 0 & 0 & 0 & 1 \\\\ 0 & 0 & 1 & 0} } $\n",
    "$ \\newcommand{\\norm}[1]{ \\left\\lVert #1 \\right\\rVert } $\n",
    "$ \\newcommand{\\pstate}[1]{ \\lceil \\mspace{-1mu} #1 \\mspace{-1.5mu} \\rfloor } $"
   ]
  },
  {
   "cell_type": "markdown",
   "metadata": {},
   "source": [
    "<h1> <font color=\"blue\"> Solutions for </font> Shor's Algorithm In More Detail</h1>"
   ]
  },
  {
   "cell_type": "markdown",
   "metadata": {},
   "source": [
    "<a id=\"task1\"></a>\n",
    "<h3>Task 1 (on paper)</h3>\n",
    "\n",
    "Show that after applying the controlled $U^{2^j}$ gates for $j=0,\\dots,t-1$, the state obtained can be expressed as $\\displaystyle \\frac{1}{2^{t/2}} \\sum_{k=0}^{2^t-1} \\ket{k}U^k\\ket{\\psi}$. "
   ]
  },
  {
   "cell_type": "markdown",
   "metadata": {},
   "source": [
    "<h3>Solution</h3>"
   ]
  },
  {
   "cell_type": "markdown",
   "metadata": {},
   "source": [
    "We have already seen the effect of the first gate corresponding to case $j=0$. Let's continue with the remaining gates."
   ]
  },
  {
   "cell_type": "markdown",
   "metadata": {},
   "source": [
    "- $ j=0 $, qubit $ t$ is the control.\n",
    "\t\n",
    "If $ k_t=0 $, new state is  $\\ket{k} \\ket{\\psi} $. If $ k_t=1 $, new state is $ e^{2\\pi i \\phi 2^0} \\ket{k} \\ket{\\psi} $. \n",
    "\n",
    "Hence, we can write it as, $\\ket{k} U^{k_t 2 ^0} \\ket{\\psi}.$\n",
    "\t\n",
    "- $ j=1 $, qubit $ t-1 $ is the control.\n",
    "\t\n",
    "If $ k_{t-1}=0 $, new state is $ \\ket{k} U^{k_t 2 ^0} \\ket{\\psi} $. If $ k_{t-1}=1 $, new state is $ \\ket{k} e^{2\\pi i \\phi 2^1} U^{k_t 2 ^0} \\ket{\\psi} $. \n",
    "\n",
    "Hence, we can write it as, $\\ket{k} U^{k_{t-1} 2 ^1} U^{k_t 2 ^0} \\ket{\\psi}$"
   ]
  },
  {
   "cell_type": "markdown",
   "metadata": {},
   "source": [
    "Applying the $ CU^{2^j} $ gates for each qubit, we obtain the following state at the end.\n",
    "\n",
    "$\n",
    "\\ket{k} U^{k_1 (2^t-1)} \\cdots U^{k_{t-1} 2^1}   U^{k_t 2^0} \\ket{\\psi} = \\ket{k} U^{k_1 (2^t-1)+\\cdots +k_{t-1} 2^1+ k_t 2^0} \\ket{\\psi}  \n",
    " $"
   ]
  },
  {
   "cell_type": "markdown",
   "metadata": {},
   "source": [
    "Now noting that $ k_1 (2^t-1)+\\cdots +k_{t-1} 2^1+k_t 2^0=k $, we can express the state obtained as $\\displaystyle \\frac{1}{2^{t/2}} \\sum_{k=0}^{2^t-1} \\ket{k}U^k\\ket{\\psi}$.\t"
   ]
  },
  {
   "cell_type": "markdown",
   "metadata": {},
   "source": [
    "<a id=\"task2\"></a>\n",
    "<h3>Task 2</h3>\n",
    "\n",
    "Implement the order finding procedure until the Inverse Quantum Fourier Transform and check whether you obtain the above state. Simulate the circuit without measuring it. Use the function <i>dirac_notation()</i> to print the state representation after getting the results. Check the first 5 states, convert to integer representation and compare with the above expression."
   ]
  },
  {
   "cell_type": "markdown",
   "metadata": {},
   "source": [
    "Recall that to implement $CU$ operator you should pass $x$ and $N$ as parameter to the function <i>Ux</i>. Run the following cell to load the function.\n",
    "\n",
    "<pre>uU=Ux(x,N)</pre>"
   ]
  },
  {
   "cell_type": "code",
   "execution_count": null,
   "metadata": {},
   "outputs": [],
   "source": [
    "%run ux_operator.py"
   ]
  },
  {
   "cell_type": "markdown",
   "metadata": {},
   "source": [
    "<h3>Solution</h3>"
   ]
  },
  {
   "cell_type": "code",
   "execution_count": null,
   "metadata": {
    "scrolled": true
   },
   "outputs": [],
   "source": [
    "from qiskit import QuantumRegister, ClassicalRegister, QuantumCircuit, transpile\n",
    "from qiskit_aer import AerSimulator, StatevectorSimulator\n",
    "from qiskit.visualization import plot_histogram\n",
    "from qiskit.circuit.library import UnitaryGate\n",
    "from qiskit.quantum_info import Statevector\n",
    "\n",
    "#Set t and n, sizes of the registers\n",
    "t=12\n",
    "n=4\n",
    "\n",
    "#Create the operator CU\n",
    "x=7\n",
    "N=15\n",
    "uU=Ux(x,N)\n",
    "\n",
    "#Create t qubits of the control register\n",
    "control = QuantumRegister(t)\n",
    "\n",
    "#Create n qubits of the target register\n",
    "target = QuantumRegister(n)\n",
    "\n",
    "#Create classical register to measure control qubits\n",
    "meas_control = ClassicalRegister(t)\n",
    "\n",
    "#Create classical register to measure target qubits\n",
    "meas_target = ClassicalRegister(n)\n",
    "\n",
    "#Create cirucit\n",
    "qc1=QuantumCircuit(control, target, meas_control, meas_target) \n",
    "\n",
    "#Set target qubit to state |1>\n",
    "qc1.x(target[n-1])\n",
    "\n",
    "\n",
    "#Apply Hadamard to control qubits\n",
    "for qb in control:\n",
    "    qc1.h(qb)\n",
    "    \n",
    "for i in range(t):\n",
    "    # Assemble list of control and target qubits\n",
    "    qubits=[control[t-i-1]]\n",
    "    for qq in target:\n",
    "        qubits.append(qq)\n",
    "\n",
    "    # Apply CU gates\n",
    "    qc1.append(UnitaryGate(uU).power(2**i).control(),qubits)\n",
    "       \n",
    "# Reverse control (and every other) qubits\n",
    "qc2=qc1.reverse_bits()\n",
    "\n",
    "#Simulate the circuit\n",
    "qc2 = transpile(qc2, StatevectorSimulator())\n",
    "job = StatevectorSimulator().run(qc2)\n",
    "sv2 = job.result().get_statevector(qc2, 10)\n",
    "\n",
    "#Use Dirac notation to print the output\n",
    "sv2.draw('latex')\n"
   ]
  },
  {
   "cell_type": "markdown",
   "metadata": {},
   "source": [
    "Let's check the first 5 states. The first 12 bits represent the first register and the last 4 bits represent the second register."
   ]
  },
  {
   "cell_type": "markdown",
   "metadata": {},
   "source": [
    "$\\ket{000000000000}\\ket{0001} = \\ket{0}\\ket{1}$\n",
    "\n",
    "$\\ket{000000000001}\\ket{0111} = \\ket{1}\\ket{7}$\n",
    "\n",
    "$\\ket{000000000010}\\ket{0100} = \\ket{2}\\ket{4}$\n",
    "\n",
    "$\\ket{000000000011}\\ket{1101} = \\ket{3}\\ket{13}$\n",
    "\n",
    "$\\ket{000000000100}\\ket{0001} = \\ket{4}\\ket{1}$"
   ]
  },
  {
   "cell_type": "markdown",
   "metadata": {},
   "source": [
    "<a id=\"task3\"></a>\n",
    "<h3>Task 3</h3>\n",
    "\n",
    "Measure the second register and sample the circuit. Next, simulate the circuit and print the obtained state using <i>dirac_notation()</i>. Check the first five states and convert to integer representation."
   ]
  },
  {
   "cell_type": "markdown",
   "metadata": {},
   "source": [
    "<h3>Solution</h3>"
   ]
  },
  {
   "cell_type": "code",
   "execution_count": null,
   "metadata": {
    "scrolled": true
   },
   "outputs": [],
   "source": [
    "# Add measurement of control qubits\n",
    "qc1.measure(target, meas_target)\n",
    "qc3=qc1.reverse_bits()\n",
    "\n",
    "#Sample the circuit\n",
    "print('Sample the circuit:')\n",
    "qc3 = transpile(qc3, AerSimulator())\n",
    "job = AerSimulator().run(qc3,shots=1000)\n",
    "counts = job.result().get_counts(qc3)\n",
    "\n",
    "counts=dict((int(key.replace(' ',''),2), value) for (key, value) in counts.items())\n",
    "display(plot_histogram(counts))"
   ]
  },
  {
   "cell_type": "code",
   "execution_count": null,
   "metadata": {
    "scrolled": true
   },
   "outputs": [],
   "source": [
    "#Simulate the circuit.\n",
    "qc1 = transpile(qc1, StatevectorSimulator())\n",
    "job = StatevectorSimulator().run(qc1)\n",
    "sv1 = job.result().get_statevector(qc1,10)\n",
    "\n",
    "# Measure the target registers. One of the outcomes is picked due to measurement\n",
    "postm_sv=sv1.measure(range(0,n))\n",
    "\n",
    "print(\"Measurement result:\", postm_sv[0])\n",
    "postm_sv[1].draw('latex')"
   ]
  },
  {
   "cell_type": "markdown",
   "metadata": {},
   "source": [
    "In our case, the second register is measured as $\\ket{1101}$ which is $\\ket{13}$. Note that you might get a different measurement result. Let's check the first 5 states."
   ]
  },
  {
   "cell_type": "markdown",
   "metadata": {},
   "source": [
    "$\\ket{000000000011}=\\ket{3}$ \n",
    "\n",
    "$\\ket{000000000111} = \\ket{7}$\n",
    "\n",
    "$\\ket{000000001011} = \\ket{11}$\n",
    "\n",
    "$\\ket{000000001111} = \\ket{15}$ \n",
    "\n",
    "$\\ket{000000010011} = \\ket{19}$"
   ]
  },
  {
   "cell_type": "markdown",
   "metadata": {},
   "source": [
    "<a id=\"task4\"></a>\n",
    "<h3>Task 4</h3>\n",
    "\n",
    "Apply $QFT^{\\dagger}$ to the first register and measure (Don't forget to provide a different key for measurement). Sample the circuit and check whether you get the outcomes 0, 1024, 2048 and 3072."
   ]
  },
  {
   "cell_type": "markdown",
   "metadata": {},
   "source": [
    "<h3>Solution</h3>"
   ]
  },
  {
   "cell_type": "code",
   "execution_count": null,
   "metadata": {},
   "outputs": [],
   "source": [
    "# %load iqft.py\n",
    "from qiskit import QuantumRegister, ClassicalRegister, QuantumCircuit, transpile\n",
    "from qiskit_aer import AerSimulator\n",
    "from math import pi\n",
    "\n",
    "def iqft(n, qubits, circuit):\n",
    "    #Swap the qubits\n",
    "    for i in range(n//2):\n",
    "        circuit.swap(qubits[i],qubits[n-i-1])     \n",
    "        \n",
    "    #For each qubit\n",
    "    for i in range(n-1,-1,-1):\n",
    "        #Apply CR_k gates where j is the control and i is the target\n",
    "        k=n-i #We start with k=n-i\n",
    "        for j in range(n-1,i,-1):\n",
    "            #Apply CR_k gate  \n",
    "            circuit.cp(-pi*2/2**(k), qubits[j],qubits[i])\n",
    "            k=k-1 #Dencrement k at each step\n",
    " \n",
    "        #Apply Hadamard to the qubit\n",
    "        circuit.h(qubits[i])"
   ]
  },
  {
   "cell_type": "code",
   "execution_count": null,
   "metadata": {},
   "outputs": [],
   "source": [
    "#Call inverse qft method\n",
    "iqft(t,control,qc1)\n",
    "\n",
    "#Measure the control register\n",
    "qc1.measure(control, meas_control)\n",
    "\n",
    "qc4=qc1.reverse_bits()\n",
    "\n",
    "print('Sample the circuit:')\n",
    "qc4 = transpile(qc4, AerSimulator())\n",
    "job = AerSimulator().run(qc4,shots=1000)\n",
    "counts = job.result().get_counts(qc4)\n",
    "\n",
    "counts4=dict((int(key.split()[0],2), value) for (key, value) in counts.items())\n",
    "display(counts4)\n",
    "display(plot_histogram(counts4))"
   ]
  }
 ],
 "metadata": {
  "kernelspec": {
   "display_name": "Python 3 (ipykernel)",
   "language": "python",
   "name": "python3"
  },
  "language_info": {
   "codemirror_mode": {
    "name": "ipython",
    "version": 3
   },
   "file_extension": ".py",
   "mimetype": "text/x-python",
   "name": "python",
   "nbconvert_exporter": "python",
   "pygments_lexer": "ipython3",
   "version": "3.13.7"
  }
 },
 "nbformat": 4,
 "nbformat_minor": 4
}
