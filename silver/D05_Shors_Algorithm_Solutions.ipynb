{
 "cells": [
  {
   "cell_type": "markdown",
   "metadata": {},
   "source": [
    "<table  align=\"left\" width=\"100%\"> <tr>\n",
    "        <td  style=\"background-color:#ffffff;\"><a href=\"https://qsoftware.lu.lv/index.php/qworld/\" target=\"_blank\"><img src=\"../images/qworld/qworld.jpg\" width=\"35%\" align=\"left\"></a></td>\n",
    "        <td  align=\"right\" style=\"background-color:#ffffff;vertical-align:bottom;horizontal-align:right\">\n",
    "            prepared by Özlem Salehi (<a href=\"http://qworld.lu.lv/index.php/qturkey/\" target=\"_blank\">QTurkey</a>)\n",
    "        </td>        \n",
    "</tr></table>"
   ]
  },
  {
   "cell_type": "markdown",
   "metadata": {},
   "source": [
    "<table width=\"100%\"><tr><td style=\"color:#bbbbbb;background-color:#ffffff;font-size:11px;font-style:italic;text-align:right;\">This cell contains some macros. If there is a problem with displaying mathematical formulas, please run this cell to load these macros. </td></tr></table>\n",
    "$\\newcommand{\\Mod}[1]{\\ (\\mathrm{mod}\\ #1)}$\n",
    "$ \\newcommand{\\bra}[1]{\\langle #1|} $\n",
    "$ \\newcommand{\\ket}[1]{|#1\\rangle} $\n",
    "$ \\newcommand{\\braket}[2]{\\langle #1|#2\\rangle} $\n",
    "$ \\newcommand{\\dot}[2]{ #1 \\cdot #2} $\n",
    "$ \\newcommand{\\biginner}[2]{\\left\\langle #1,#2\\right\\rangle} $\n",
    "$ \\newcommand{\\mymatrix}[2]{\\left( \\begin{array}{#1} #2\\end{array} \\right)} $\n",
    "$ \\newcommand{\\myvector}[1]{\\mymatrix{c}{#1}} $\n",
    "$ \\newcommand{\\myrvector}[1]{\\mymatrix{r}{#1}} $\n",
    "$ \\newcommand{\\mypar}[1]{\\left( #1 \\right)} $\n",
    "$ \\newcommand{\\mybigpar}[1]{ \\Big( #1 \\Big)} $\n",
    "$ \\newcommand{\\sqrttwo}{\\frac{1}{\\sqrt{2}}} $\n",
    "$ \\newcommand{\\dsqrttwo}{\\dfrac{1}{\\sqrt{2}}} $\n",
    "$ \\newcommand{\\onehalf}{\\frac{1}{2}} $\n",
    "$ \\newcommand{\\donehalf}{\\dfrac{1}{2}} $\n",
    "$ \\newcommand{\\hadamard}{ \\mymatrix{rr}{ \\sqrttwo & \\sqrttwo \\\\ \\sqrttwo & -\\sqrttwo }} $\n",
    "$ \\newcommand{\\vzero}{\\myvector{1\\\\0}} $\n",
    "$ \\newcommand{\\vone}{\\myvector{0\\\\1}} $\n",
    "$ \\newcommand{\\stateplus}{\\myvector{ \\sqrttwo \\\\  \\sqrttwo } } $\n",
    "$ \\newcommand{\\stateminus}{ \\myrvector{ \\sqrttwo \\\\ -\\sqrttwo } } $\n",
    "$ \\newcommand{\\myarray}[2]{ \\begin{array}{#1}#2\\end{array}} $\n",
    "$ \\newcommand{\\X}{ \\mymatrix{cc}{0 & 1 \\\\ 1 & 0}  } $\n",
    "$ \\newcommand{\\Z}{ \\mymatrix{rr}{1 & 0 \\\\ 0 & -1}  } $\n",
    "$ \\newcommand{\\Htwo}{ \\mymatrix{rrrr}{ \\frac{1}{2} & \\frac{1}{2} & \\frac{1}{2} & \\frac{1}{2} \\\\ \\frac{1}{2} & -\\frac{1}{2} & \\frac{1}{2} & -\\frac{1}{2} \\\\ \\frac{1}{2} & \\frac{1}{2} & -\\frac{1}{2} & -\\frac{1}{2} \\\\ \\frac{1}{2} & -\\frac{1}{2} & -\\frac{1}{2} & \\frac{1}{2} } } $\n",
    "$ \\newcommand{\\CNOT}{ \\mymatrix{cccc}{1 & 0 & 0 & 0 \\\\ 0 & 1 & 0 & 0 \\\\ 0 & 0 & 0 & 1 \\\\ 0 & 0 & 1 & 0} } $\n",
    "$ \\newcommand{\\norm}[1]{ \\left\\lVert #1 \\right\\rVert } $\n",
    "$ \\newcommand{\\pstate}[1]{ \\lceil \\mspace{-1mu} #1 \\mspace{-1.5mu} \\rfloor } $"
   ]
  },
  {
   "cell_type": "markdown",
   "metadata": {},
   "source": [
    "<h1> <font color=\"blue\"> Solutions for </font> Shor's Algorithm</h1>"
   ]
  },
  {
   "cell_type": "markdown",
   "metadata": {},
   "source": [
    "<a id=\"task1\"></a>\n",
    "### Task 1\n",
    "\n",
    "Let $N=111$. What percentage of the elements that are less than $N$ are relatively prime with $N$? Write a Python code to find out. (You can use gcd function of numpy.)"
   ]
  },
  {
   "cell_type": "markdown",
   "metadata": {},
   "source": [
    "<h3>Solution</h3>"
   ]
  },
  {
   "cell_type": "code",
   "execution_count": null,
   "metadata": {},
   "outputs": [],
   "source": [
    "import numpy as np  \n",
    "\n",
    "#Create an empty list\n",
    "rlist=[]\n",
    "N=111\n",
    "\n",
    "#If relatively prime with N, append to the list\n",
    "for i in range(1,N):\n",
    "    if np.gcd(N,i)==1:\n",
    "        rlist.append(i)\n",
    "        \n",
    "print(rlist)\n",
    "        \n",
    "print(len(rlist)*100/N, \"percentage of the integers are relatively prime with\", N)"
   ]
  },
  {
   "cell_type": "markdown",
   "metadata": {},
   "source": [
    "<a id=\"task2\"></a>\n",
    "### Task 2\n",
    "\n",
    "Calculate the order of each element $ x $ that is relatively prime with $N $. What percentage of the $ x $’s have even order and satisfy $x^{r/2} \\neq -1 \\Mod{N}$?\n",
    "\n",
    "Put the elements that satisfy the conditions in a dictionary together with their order.\n",
    "\n"
   ]
  },
  {
   "cell_type": "markdown",
   "metadata": {},
   "source": [
    "<h3>Solution</h3>"
   ]
  },
  {
   "cell_type": "code",
   "execution_count": null,
   "metadata": {
    "scrolled": true
   },
   "outputs": [],
   "source": [
    "import numpy as np\n",
    "counter=0\n",
    "#This will hold the list of integers that satisfy the conditions together with the order\n",
    "satisfy={}\n",
    "\n",
    "#rlist contains the relatively prime numbers with N        \n",
    "for i in range(len(rlist)):\n",
    "    r=1;\n",
    "    while(1):\n",
    "        if (rlist[i]**r)%N==1:\n",
    "            if(r%2==0 and ((rlist[i]**int(r/2))%N != N-1)):\n",
    "                counter=counter+1\n",
    "                print(\"Order of\",rlist[i],\":\",r)\n",
    "                satisfy[rlist[i]]=r\n",
    "            break\n",
    "        r=r+1\n",
    "    \n",
    "print(counter*100/N, \"percentage of the integers satisfy the conditions\")        \n",
    "        "
   ]
  },
  {
   "cell_type": "markdown",
   "metadata": {},
   "source": [
    "<a id=\"task3\"></a>\n",
    "<h3>Task 3</h3>\n",
    "\n",
    "Pick randomly one of the $x$ you found in Task 2 and calculate gcd$(x^{r/2}-1,N)$ and gcd$(x^{r/2}+1,N)$."
   ]
  },
  {
   "cell_type": "markdown",
   "metadata": {},
   "source": [
    "<h3>Solution</h3>"
   ]
  },
  {
   "cell_type": "code",
   "execution_count": null,
   "metadata": {},
   "outputs": [],
   "source": [
    "import random\n",
    "\n",
    "#Pick a random integer\n",
    "rand_index=random.randint(0,len(satisfy))\n",
    "\n",
    "#Pick a random x and its order from the dictionary we have created above\n",
    "x,r=random.choice(list(satisfy.items()))\n",
    "print(x, \"is picked with order\", r)\n",
    "\n",
    "#Calculate gcd\n",
    "print(\"Factors of\",N,\":\",np.gcd((x**int(r/2)-1),N), \"and\",np.gcd((x**int(r/2)+1),N))"
   ]
  },
  {
   "cell_type": "markdown",
   "metadata": {},
   "source": [
    "<a id=\"task4\"></a>\n",
    "<h3>Task 4</h3>\n",
    "\n",
    "Factor 21 using Shor's Algorithm.\n",
    "\n",
    "- Pick a random $x$ which is relatively prime with 21.\n",
    "- Apply phase estimation circuit to the operator $U_x$.\n",
    "- Use continued fractions algorithm to find out $r$.\n",
    "- Compute $gcd(x^{r/2} -1, N)$ and $gcd(x^{r/2}+1, N)$"
   ]
  },
  {
   "cell_type": "markdown",
   "metadata": {},
   "source": [
    "<h3>Solution</h3>"
   ]
  },
  {
   "cell_type": "code",
   "execution_count": null,
   "metadata": {},
   "outputs": [],
   "source": [
    "N=21"
   ]
  },
  {
   "cell_type": "code",
   "execution_count": null,
   "metadata": {},
   "outputs": [],
   "source": [
    "#Pick a random x relatively prime with N\n",
    "\n",
    "import random as rand\n",
    "import numpy as np\n",
    "\n",
    "counter = 0\n",
    "\n",
    "while(True):\n",
    "    x = rand.randrange(1,N)\n",
    "    counter = counter + 1\n",
    "    if np.gcd(x,N)==1:\n",
    "        break\n",
    "        \n",
    "print(x, \" is picked after \", counter, \" trials\")    "
   ]
  },
  {
   "cell_type": "code",
   "execution_count": null,
   "metadata": {},
   "outputs": [],
   "source": [
    "#Run this cell to load the function Ux\n",
    "%run ux_operator.py"
   ]
  },
  {
   "cell_type": "code",
   "execution_count": null,
   "metadata": {},
   "outputs": [],
   "source": [
    "#Create CU operator by calling function Ux(x,N)\n",
    "uU=Ux(x,N)"
   ]
  },
  {
   "cell_type": "code",
   "execution_count": null,
   "metadata": {},
   "outputs": [],
   "source": [
    "# %load qpe.py\n",
    "from qiskit import QuantumRegister, ClassicalRegister, QuantumCircuit\n",
    "from qiskit_aer import AerSimulator\n",
    "from qiskit.circuit.library import UnitaryGate\n",
    "\n",
    "def qpe(t,control, target, circuit, uU):\n",
    "    \n",
    "    #Apply Hadamard to control qubits\n",
    "    for qb in control:\n",
    "        circuit.h(qb)\n",
    "    \n",
    "    for i in range(t):\n",
    "        # Assemble list of control and target qubits\n",
    "        qubits=[control[t-i-1]]\n",
    "        for qq in target:\n",
    "            qubits.append(qq)\n",
    "\n",
    "        # Apply CU gates\n",
    "        circuit.append(UnitaryGate(uU).power(2**i).control(),qubits)\n",
    "       \n",
    "    #Apply inverse QFT\n",
    "    iqft(t,control,circuit)"
   ]
  },
  {
   "cell_type": "code",
   "execution_count": null,
   "metadata": {},
   "outputs": [],
   "source": [
    "# %load iqft.py\n",
    "from qiskit import QuantumRegister, ClassicalRegister, QuantumCircuit\n",
    "from qiskit_aer import AerSimulator\n",
    "from math import pi\n",
    "\n",
    "def iqft(n, qubits, circuit):\n",
    "    #Swap the qubits\n",
    "    for i in range(n//2):\n",
    "        circuit.swap(qubits[i],qubits[n-i-1])     \n",
    "        \n",
    "    #For each qubit\n",
    "    for i in range(n-1,-1,-1):\n",
    "        #Apply CR_k gates where j is the control and i is the target\n",
    "        k=n-i #We start with k=n-i\n",
    "        for j in range(n-1,i,-1):\n",
    "            #Apply CR_k gate  \n",
    "            circuit.cp(-pi*2/2**(k), qubits[j],qubits[i])\n",
    "            k=k-1 #Dencrement k at each step\n",
    " \n",
    "        #Apply Hadamard to the qubit\n",
    "        circuit.h(qubits[i])"
   ]
  },
  {
   "cell_type": "code",
   "execution_count": null,
   "metadata": {},
   "outputs": [],
   "source": [
    "#Determine t and n, size of the control and target registers\n",
    "import math\n",
    "n=math.ceil(math.log2(21))\n",
    "t = 2*n+1+math.ceil(math.log2(2+1/(2*0.1)))\n",
    "print(\"n=\",n)\n",
    "print(\"t=\",t)\n",
    "print(\"total qubits:\",t+n)"
   ]
  },
  {
   "cell_type": "code",
   "execution_count": null,
   "metadata": {},
   "outputs": [],
   "source": [
    "from qiskit import QuantumRegister, ClassicalRegister, QuantumCircuit, transpile\n",
    "from qiskit_aer import AerSimulator\n",
    "from qiskit.visualization import plot_histogram\n",
    "\n",
    "#Create t qubits of the control register\n",
    "control = QuantumRegister(t)\n",
    "\n",
    "#Create n qubits of the target register\n",
    "target = QuantumRegister(n)\n",
    "\n",
    "#Create classical register to measure control qubits\n",
    "measurement = ClassicalRegister(t)\n",
    "\n",
    "#Create cirucit\n",
    "qc4=QuantumCircuit(control, target, measurement) \n",
    "\n",
    "#Set target qubit to state |1>\n",
    "qc4.x(target[n-1])\n",
    "\n",
    "#Apply QPE\n",
    "qpe(t,control, target, qc4, uU)\n",
    "\n",
    "# Measure control qubits\n",
    "qc4.measure(control, measurement)\n",
    "\n",
    "\n",
    "# Reverse control (and every other) qubits\n",
    "qc4=qc4.reverse_bits()\n"
   ]
  },
  {
   "cell_type": "code",
   "execution_count": null,
   "metadata": {},
   "outputs": [],
   "source": [
    "#Call the simulator and print the result\n",
    "print(\"Running job\")\n",
    "qc4 = transpile(qc4, AerSimulator())\n",
    "backend = AerSimulator(max_parallel_threads=8, max_parallel_experiments=1, max_parallel_shots=8)\n",
    "result = backend.run(qc4, shots=1000, memory=True).result()\n",
    "\n",
    "raw_counts = result.get_counts()\n",
    "\n",
    "# Store individual measurement outcomes\n",
    "shot_results=[int(res,2) for res in result.get_memory()]\n",
    "\n",
    "# Print a histogram of results\n",
    "counts=dict((int(key,2), value) for (key, value) in raw_counts.items())\n",
    "print(counts)            \n",
    "display(plot_histogram(counts))"
   ]
  },
  {
   "cell_type": "code",
   "execution_count": null,
   "metadata": {},
   "outputs": [],
   "source": [
    "#Load the contFrac and convergents functions\n",
    "%run ../include/helpers.py\n",
    "\n",
    "#Run continued fractions algorithm to find out r\n",
    "for b in shot_results[0:10]:\n",
    "    cf=contFrac(b/(2**t))\n",
    "    print(cf)\n",
    "    cv=convergents(cf)\n",
    "    print(cv)"
   ]
  },
  {
   "cell_type": "markdown",
   "metadata": {},
   "source": [
    "The candidate is $s'=1$ and $r'=6$."
   ]
  },
  {
   "cell_type": "code",
   "execution_count": null,
   "metadata": {},
   "outputs": [],
   "source": [
    "#Check if r is even, and x^{r/2} is not equal to -1 Mod N\n",
    "r=6\n",
    "if (r%2==0 and (x**(r/2))%N != -1) :\n",
    "    print(\"Proceed\")\n",
    "else:\n",
    "    print(\"Repeat the algorithm\")"
   ]
  },
  {
   "cell_type": "markdown",
   "metadata": {},
   "source": [
    "Note that you may not be able to get the $r$ value in your first trial. In such a case, you need to repeat the algorithm. "
   ]
  },
  {
   "cell_type": "markdown",
   "metadata": {},
   "source": [
    " Now let's check $gcd(x^{r/2} -1, N)$ and $gcd(x^{r/2}+1, N)$."
   ]
  },
  {
   "cell_type": "code",
   "execution_count": null,
   "metadata": {},
   "outputs": [],
   "source": [
    "#Compute gcd to find out the factors of N\n",
    "\n",
    "print(\"Factors of\",N,\":\",np.gcd((x**int(r/2)-1),N), \"and\", np.gcd((x**int(r/2)+1),N))"
   ]
  },
  {
   "cell_type": "markdown",
   "metadata": {},
   "source": [
    "We are able to identify both of the factors of 21 which are 3 and 7. "
   ]
  }
 ],
 "metadata": {
  "kernelspec": {
   "display_name": "Python 3 (ipykernel)",
   "language": "python",
   "name": "python3"
  },
  "language_info": {
   "codemirror_mode": {
    "name": "ipython",
    "version": 3
   },
   "file_extension": ".py",
   "mimetype": "text/x-python",
   "name": "python",
   "nbconvert_exporter": "python",
   "pygments_lexer": "ipython3",
   "version": "3.12.2"
  }
 },
 "nbformat": 4,
 "nbformat_minor": 4
}
