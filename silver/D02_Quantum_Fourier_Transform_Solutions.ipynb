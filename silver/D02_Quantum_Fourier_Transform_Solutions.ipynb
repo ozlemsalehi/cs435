{
 "cells": [
  {
   "cell_type": "markdown",
   "metadata": {},
   "source": [
    "<table  align=\"left\" width=\"100%\"> <tr>\n",
    "        <td  style=\"background-color:#ffffff;\"><a href=\"https://qsoftware.lu.lv/index.php/qworld/\" target=\"_blank\"><img src=\"../images/qworld/qworld.jpg\" width=\"35%\" align=\"left\"></a></td>\n",
    "        <td  align=\"right\" style=\"background-color:#ffffff;vertical-align:bottom;horizontal-align:right\">\n",
    "            prepared by Özlem Salehi (<a href=\"http://qworld.lu.lv/index.php/qturkey/\" target=\"_blank\">QTurkey</a>)\n",
    "        </td>        \n",
    "</tr></table>"
   ]
  },
  {
   "cell_type": "markdown",
   "metadata": {},
   "source": [
    "<table width=\"100%\"><tr><td style=\"color:#bbbbbb;background-color:#ffffff;font-size:11px;font-style:italic;text-align:right;\">This cell contains some macros. If there is a problem with displaying mathematical formulas, please run this cell to load these macros. </td></tr></table>\n",
    "$ \\newcommand{\\bra}[1]{\\langle #1|} $\n",
    "$ \\newcommand{\\ket}[1]{|#1\\rangle} $\n",
    "$ \\newcommand{\\braket}[2]{\\langle #1|#2\\rangle} $\n",
    "$ \\newcommand{\\dot}[2]{ #1 \\cdot #2} $\n",
    "$ \\newcommand{\\biginner}[2]{\\left\\langle #1,#2\\right\\rangle} $\n",
    "$ \\newcommand{\\mymatrix}[2]{\\left( \\begin{array}{#1} #2\\end{array} \\right)} $\n",
    "$ \\newcommand{\\myvector}[1]{\\mymatrix{c}{#1}} $\n",
    "$ \\newcommand{\\myrvector}[1]{\\mymatrix{r}{#1}} $\n",
    "$ \\newcommand{\\mypar}[1]{\\left( #1 \\right)} $\n",
    "$ \\newcommand{\\mybigpar}[1]{ \\Big( #1 \\Big)} $\n",
    "$ \\newcommand{\\sqrttwo}{\\frac{1}{\\sqrt{2}}} $\n",
    "$ \\newcommand{\\dsqrttwo}{\\dfrac{1}{\\sqrt{2}}} $\n",
    "$ \\newcommand{\\onehalf}{\\frac{1}{2}} $\n",
    "$ \\newcommand{\\donehalf}{\\dfrac{1}{2}} $\n",
    "$ \\newcommand{\\hadamard}{ \\mymatrix{rr}{ \\sqrttwo & \\sqrttwo \\\\ \\sqrttwo & -\\sqrttwo }} $\n",
    "$ \\newcommand{\\vzero}{\\myvector{1\\\\0}} $\n",
    "$ \\newcommand{\\vone}{\\myvector{0\\\\1}} $\n",
    "$ \\newcommand{\\stateplus}{\\myvector{ \\sqrttwo \\\\  \\sqrttwo } } $\n",
    "$ \\newcommand{\\stateminus}{ \\myrvector{ \\sqrttwo \\\\ -\\sqrttwo } } $\n",
    "$ \\newcommand{\\myarray}[2]{ \\begin{array}{#1}#2\\end{array}} $\n",
    "$ \\newcommand{\\X}{ \\mymatrix{cc}{0 & 1 \\\\ 1 & 0}  } $\n",
    "$ \\newcommand{\\Z}{ \\mymatrix{rr}{1 & 0 \\\\ 0 & -1}  } $\n",
    "$ \\newcommand{\\Htwo}{ \\mymatrix{rrrr}{ \\frac{1}{2} & \\frac{1}{2} & \\frac{1}{2} & \\frac{1}{2} \\\\ \\frac{1}{2} & -\\frac{1}{2} & \\frac{1}{2} & -\\frac{1}{2} \\\\ \\frac{1}{2} & \\frac{1}{2} & -\\frac{1}{2} & -\\frac{1}{2} \\\\ \\frac{1}{2} & -\\frac{1}{2} & -\\frac{1}{2} & \\frac{1}{2} } } $\n",
    "$ \\newcommand{\\CNOT}{ \\mymatrix{cccc}{1 & 0 & 0 & 0 \\\\ 0 & 1 & 0 & 0 \\\\ 0 & 0 & 0 & 1 \\\\ 0 & 0 & 1 & 0} } $\n",
    "$ \\newcommand{\\norm}[1]{ \\left\\lVert #1 \\right\\rVert } $\n",
    "$ \\newcommand{\\pstate}[1]{ \\lceil \\mspace{-1mu} #1 \\mspace{-1.5mu} \\rfloor } $"
   ]
  },
  {
   "cell_type": "markdown",
   "metadata": {},
   "source": [
    "<h1> <font color=\"blue\"> Solutions for </font> Quantum Fourier Transform</h1>"
   ]
  },
  {
   "cell_type": "markdown",
   "metadata": {},
   "source": [
    "<h3>Task 1 (on paper)</h3>\n",
    "<a id=\"task1\"></a>\n",
    "\n",
    "Apply $QFT$ to the basis state $\\ket{10}$ and find the new quantum state.\n"
   ]
  },
  {
   "cell_type": "markdown",
   "metadata": {},
   "source": [
    "<h3>Solution </h3>"
   ]
  },
  {
   "cell_type": "markdown",
   "metadata": {},
   "source": [
    "We have $n=2$ qubits and $N=4$. $\\omega = e^{\\frac{2 \\pi i} { 4}} =i$. Note that $\\ket{10}$ is the binary representation for 2. Letting $j=2$,"
   ]
  },
  {
   "cell_type": "markdown",
   "metadata": {},
   "source": [
    "\\begin{align*}\n",
    " \\frac{1}{\\sqrt{N}} \\sum_{k=0}^{N-1}\\omega^{jk} \\ket{k} &= \\frac{1}{\\sqrt{4}} \\biggl ( \\omega^{2\\cdot0 } \\ket{00}+ \\omega^{2\\cdot1} \\ket{01} + \\omega^{2\\cdot2} \\ket{10} + \\omega^{2\\cdot3} \\ket{11} \\biggr ) \\\\\n",
    "&= \\frac{1}{2} \\bigl ( \\ket{00}- \\ket{01} + \\ket{10} - \\ket{11} \\bigr )\n",
    "\\end{align*}"
   ]
  },
  {
   "cell_type": "markdown",
   "metadata": {},
   "source": [
    "We can also directly calculate the coefficients $y_k$. The vector representation for the state $\\ket{10} = \\myvector{0~0~1~0}^T$. Since $x_2=1$ and the remaining coefficients are 0, the formula reduces to \n",
    "\n",
    "$$y_k=\\frac{1}{\\sqrt{N}} \\sum_{j=0}^{N-1} \\omega^{jk} x_j= \\frac{1}{2} \\omega^{2k} x_2 = \\frac{1}{2} (-1)^k.$$"
   ]
  },
  {
   "cell_type": "markdown",
   "metadata": {},
   "source": [
    "Hence we get $y_0= \\frac{1}{2}$, $y_1=\\frac{-1}{2}$, $y_2=\\frac{1}{2}, y_3=\\frac{-1}{2}$ and \n",
    "$$\n",
    "y= \\myvector{\\frac{1}{2}\\\\-\\frac{1}{2}\\\\\\frac{1}{2}\\\\-\\frac{1}{2}}\n",
    "$$"
   ]
  },
  {
   "cell_type": "markdown",
   "metadata": {},
   "source": [
    "<a id=\"task2\"></a>\n",
    "\n",
    "<h3>Task 2 (on paper)</h3>\n",
    "\n",
    "Apply $QFT$ to the quantum state $ \\ket \\psi=\\frac{1}{\\sqrt{2}} \\ket {01}+\\frac{1}{\\sqrt{2}} \\ket {10} $. "
   ]
  },
  {
   "cell_type": "markdown",
   "metadata": {},
   "source": [
    "<h3>Solution </h3>"
   ]
  },
  {
   "cell_type": "markdown",
   "metadata": {},
   "source": [
    "We have $n=2$ qubits and $N=4$. Note that $ x_0=0, x_1=\\frac{1}{\\sqrt{2}}, x_2= \\frac{1}{\\sqrt{2}}, x_3=0 $.\n",
    "\n",
    "\\begin{align*}\n",
    "\t\\ket{\\phi}&=\\sum_{k=0}^{3} \\frac{1}{\\sqrt{4}} \\sum_{j=0}^{3} e^{\\frac{2 \\pi i j k}{4}} x_{j} \\ket{k} \\\\\n",
    "\t&=\\sum_{k=0}^{3} \\frac{1}{2\\sqrt{2}}  \\left(e^{\\frac{\\pi i k}{ 2}}|k\\rangle+e^{\\pi i k}|k\\rangle\\right)\\\\\n",
    "\t&= \\frac{1}{2\\sqrt{2}}\\left(2\\ket{00}+e^{\\frac{\\pi i}{2}} \\ket {01}+e^{ \\pi i}\\ket {01}+e^{ \\pi i}\\ket {10}+e^{\\pi i 2}\\ket {10} +e^{\\frac{3 \\pi i}{2}}\\ket {11}+e^{3 \\pi}\\ket {11} \\right) \\\\\n",
    "\t&= \\frac{1}{2\\sqrt{2}}\\left(2\\ket{00}+i \\ket {01}-\\ket {01}-\\ket {10} + \\ket{10} -i\\ket {11}-\\ket {11} \\right) \\\\\t\n",
    "\t&= \\frac{1}{\\sqrt{2}} \\ket {00}+\\frac{i-1}{2\\sqrt{2}}\\ket {01}+\\frac{-i-1}{2\\sqrt{2}} \\ket {11}\n",
    "\t\t\\end{align*}\n"
   ]
  },
  {
   "cell_type": "markdown",
   "metadata": {},
   "source": [
    "Note that since we have already found $QFT$ of the state $\\ket{10}$, we can find $QFT\\ket{01}$ and take the linear combination."
   ]
  },
  {
   "cell_type": "markdown",
   "metadata": {},
   "source": [
    "<a id=\"task3\"></a>\n",
    "<h3>Task 3 (on paper)</h3>\n",
    "\n",
    "Apply $QFT$ to the quantum state $\\ket{\\psi}=\\alpha \\ket{0} + \\beta \\ket{1}$ and find the new quantum state. Conclude that applying 1 qubit $QFT$ is equivalent to applying Hadamard gate."
   ]
  },
  {
   "cell_type": "markdown",
   "metadata": {},
   "source": [
    "<h3>Solution </h3>"
   ]
  },
  {
   "cell_type": "markdown",
   "metadata": {},
   "source": [
    "The quantum state $\\ket{\\psi}$ is represented by $\\myvector{\\alpha\\\\\\beta}$ where $x_0=\\alpha$ and $x_1=\\beta$."
   ]
  },
  {
   "cell_type": "markdown",
   "metadata": {},
   "source": [
    "$$y_0=\\frac{1}{\\sqrt{2}} \\sum_{j=0}^{1}e^{\\frac{2\\pi i j \\cdot 0}{2}}x_j = \\frac{ \\alpha + \\beta }{\\sqrt{2}}  .$$"
   ]
  },
  {
   "cell_type": "markdown",
   "metadata": {},
   "source": [
    "$$y_1=\\frac{1}{\\sqrt{2}} \\sum_{j=0}^{1}e^{\\frac{2\\pi i \\cdot j \\cdot 1}{2}}x_j = \\frac{1}{\\sqrt{2}} \\biggl (e^{\\frac{2\\pi i \\cdot 1 \\cdot 0}{2}}  x_0 + e^{\\frac{2\\pi i\\cdot 1\\cdot 1}{2}}x_1 \\biggr )=\\frac{ \\alpha - \\beta }{\\sqrt{2}}  .$$"
   ]
  },
  {
   "cell_type": "markdown",
   "metadata": {},
   "source": [
    "Hence the new state is $  \\frac{\\alpha+\\beta}{\\sqrt{2}} \\ket{0} + \\frac{\\alpha-\\beta}{\\sqrt{2}} \\ket{1}.$"
   ]
  },
  {
   "cell_type": "markdown",
   "metadata": {},
   "source": [
    "<a id=\"task4\"></a>\n",
    "<h3>Task 4 (on paper)</h3>\n",
    "\n",
    "Apply $QFT$ to the basis state $\\ket{10}$ using the matrix representaiton and find the new quantum state."
   ]
  },
  {
   "cell_type": "markdown",
   "metadata": {},
   "source": [
    "<h3>Solution </h3>"
   ]
  },
  {
   "cell_type": "markdown",
   "metadata": {},
   "source": [
    "Let's first find the $QFT$ matrix for 2 qubits. \n",
    "\n",
    "$$ \\frac{1}{2} \\mymatrix{rrrr}{1 & 1 & 1 &1 \\\\ \n",
    "                   1 & \\omega & \\omega^2 & \\omega^3 \\\\ \n",
    "                  1 & \\omega^2 &\\omega^4 & \\omega^6 \\\\ \n",
    "                  1 & \\omega^3 & \\omega^6 & \\omega^9 }  $$\n",
    "\n",
    "Since $\\omega = i$ for $N=4$, the matrix becomes\n",
    "$$ \\frac{1}{2} \\mymatrix{rrrr}{1 & 1 & 1 &1 \\\\ \n",
    "                   1 & i & -1 & -i \\\\ \n",
    "                  1 & -1 &1 & -1 \\\\ \n",
    "                  1 & -i & -1 & i }  .$$\n",
    "                  \n",
    "\n",
    "\n",
    "\n"
   ]
  },
  {
   "cell_type": "markdown",
   "metadata": {},
   "source": [
    "The vector representation for the state $\\ket{10}$ is given by $\\myvector{0\\\\0\\\\1\\\\0}$. Let's multiply it with the above matrix to find its $QFT$."
   ]
  },
  {
   "cell_type": "markdown",
   "metadata": {},
   "source": [
    "$$ \\frac{1}{2} \\mymatrix{rrrr}{1 & 1 & 1 &1 \\\\ \n",
    "                   1 & i & -1 & -i \\\\ \n",
    "                  1 & -1 &1 & -1 \\\\ \n",
    "                  1 & -i & -1 & i } \\myvector{0\\\\0\\\\1\\\\0} = \\frac{1}{2} \\myvector{1 \\\\ -1 \\\\ 1 \\\\ -1}$$."
   ]
  },
  {
   "cell_type": "markdown",
   "metadata": {},
   "source": [
    "Hence, we obtain the state $ \\frac{1}{2} \\bigl ( \\ket{00}- \\ket{01} + \\ket{10} - \\ket{11} \\bigr )$."
   ]
  },
  {
   "cell_type": "markdown",
   "metadata": {},
   "source": [
    "<a id=\"task5\"></a>\n",
    "<h3>Task 5 (on paper)</h3>\n",
    "\n",
    "What is the quantum state obtained after applying $QFT$ to the state $\\ket{11}$? Find using Task 5 and the linear shift property. "
   ]
  },
  {
   "cell_type": "markdown",
   "metadata": {},
   "source": [
    "<h3>Solution </h3>"
   ]
  },
  {
   "cell_type": "markdown",
   "metadata": {},
   "source": [
    "Note that the vector representation for the state $\\ket{11}$ is $\\myvector{0\\\\0\\\\0\\\\1}$. Since $QFT$ $ \\myvector{0 \\\\ 0 \\\\ 1 \\\\ 0} = \\frac{1}{2} \\myvector{1 \\\\ -1 \\\\ 1 \\\\ -1}$, using the linear shift property\n",
    "\n",
    "$$\n",
    "QFT \\myvector{0\\\\0\\\\0\\\\1} = \\frac{1}{2} \\myvector{1 \\\\ -\\omega \\\\ \\omega^2 \\\\ -\\omega^3} = \\frac{1}{2} \\myvector{1 \\\\ -i \\\\ -1 \\\\ i}. \n",
    "$$"
   ]
  },
  {
   "cell_type": "markdown",
   "metadata": {},
   "source": [
    "<a id=\"task6\"></a>\n",
    "<h3>Task 6 (on paper)</h3>\n",
    "\n",
    "Continue with the same procedure this time using the second qubit as the target and find the resulting state.\n",
    "\n",
    "- First apply Hadamard to second qubit\n",
    "\n",
    "- Then apply $CR_i$ where qubit $i+1$ is the control and the second qubit is the target for $i= 2 \\dots n-1$."
   ]
  },
  {
   "cell_type": "markdown",
   "metadata": {},
   "source": [
    "<h3>Solution </h3>"
   ]
  },
  {
   "cell_type": "markdown",
   "metadata": {},
   "source": [
    "We were left with the following state. \n",
    "\n",
    "\n",
    "$$\n",
    "\\frac{1}{2^{1/2}} \\bigl (\\ket{0} + e^{2\\pi i j 2^{-n}} \\ket{1} \\bigr ) \\ket{j_2\\cdots j_n} \n",
    "$$"
   ]
  },
  {
   "cell_type": "markdown",
   "metadata": {},
   "source": [
    "First, let's apply Hadamard to the second qubit."
   ]
  },
  {
   "cell_type": "markdown",
   "metadata": {},
   "source": [
    "Then, let's continue with applying the $CR_2$ gate where second qubit is the target and the third qubit is the control."
   ]
  },
  {
   "cell_type": "markdown",
   "metadata": {},
   "source": [
    "$$\n",
    "\\frac{1}{2^{1/{4}}} \\bigl (\\ket{0} + e^{2\\pi i j 2^{-n}} \\ket{1} \\bigr )  \\bigl (\\ket{0} + e^{2\\pi i (j_2 2^{-1} + j_3 2^{-2} } \\ket{1} \\bigr ) \\ket{j_3\\cdots j_n} \n",
    "$$"
   ]
  },
  {
   "cell_type": "markdown",
   "metadata": {},
   "source": [
    "Continuing with the remaining $CR$ gates we obtain the state"
   ]
  },
  {
   "cell_type": "markdown",
   "metadata": {},
   "source": [
    "$$\n",
    "\\frac{1}{2^{1/{4}}} \\bigl (\\ket{0} + e^{2\\pi i j 2^{-n}} \\ket{1} \\bigr ) \\bigl (\\ket{0} + e^{2\\pi i  (j_2 2^{-1}+{j_3}{2^{-2}} +{j_4}{2^{-3}} \\dots {j_n}{2^{-(n-1)}}   )} \\ket{1} \\bigr ) \\ket{j_3\\cdots j_n} \n",
    "$$"
   ]
  },
  {
   "cell_type": "markdown",
   "metadata": {},
   "source": [
    "Now note that \n",
    "\\begin{align*}\n",
    "e^{2\\pi i  (j_2 2^{-1}+{j_3}{2^{-2}} +{j_4}{2^{-3}} \\dots {j_n}{2^{-(n-1)}})} &=e^{2\\pi ij_1 2^0} \\cdot  e^{2\\pi i  (j_2 2^{-1}+{j_3}{2^{-2}} +{j_4}{2^{-3}} \\dots {j_n}{2^{-(n-1)}})} \\\\\n",
    "&= e^{2\\pi i (j_1 2^0 + j_2 2^{-1}+{j_3}{2^{-2}} +{j_4}{2^{-3}} \\dots {j_n}{2^{-(n-1)}})} \\\\\n",
    "&= e^{2\\pi i j 2^{-n+1}}\\\\\n",
    "\\end{align*}"
   ]
  },
  {
   "cell_type": "markdown",
   "metadata": {},
   "source": [
    "Hence the above equation can be written as \n",
    "\n",
    "$$\n",
    "\\frac{1}{2^{1/{4}}} \\bigl (\\ket{0} + e^{2\\pi i j 2^{-n}} \\ket{1} \\bigr ) \\bigl (\\ket{0} + e^{2\\pi i j 2^{-n+1}  } \\ket{1} \\bigr ) \\ket{j_3\\cdots j_n} \n",
    "$$"
   ]
  },
  {
   "cell_type": "markdown",
   "metadata": {},
   "source": [
    "<a id=\"task7\"></a>\n",
    "<h3>Task 7</h3>\n",
    "\n",
    "Implement the circuit for applying $ QFT $ to a 2 qubit system. Try it using $\\ket{01}$ as your input state. Simulate your circuit and compare it with the solution of Task 1."
   ]
  },
  {
   "cell_type": "markdown",
   "metadata": {},
   "source": [
    "<h3>Solution </h3>"
   ]
  },
  {
   "cell_type": "code",
   "execution_count": null,
   "metadata": {},
   "outputs": [],
   "source": [
    "from qiskit import QuantumRegister, ClassicalRegister, QuantumCircuit\n",
    "from qiskit_aer import StatevectorSimulator\n",
    "from math import pi\n",
    "\n",
    "#Create and initialize circuit\n",
    "qc1 = QuantumCircuit(2)\n",
    "qc1.x(0)\n",
    "\n",
    "#Apply Hadamard to first qubit\n",
    "qc1.h(0)\n",
    "\n",
    "#Apply CR_2 gate with t=2/2^2 where first qubit is target and second qubit is control\n",
    "qc1.cp(pi*2/2**2,0,1)\n",
    "\n",
    "#Apply Hadamard to second qubit\n",
    "qc1.h(1)\n",
    "\n",
    "#Swap the qubits\n",
    "qc1.swap(0,1)\n",
    "\n",
    "#Simulate the circuit and print the results\n",
    "display(qc1.draw('mpl', reverse_bits=False))\n",
    "\n",
    "job = StatevectorSimulator().run(qc1)\n",
    "v=job.result().get_statevector(qc1,decimals=3)\n",
    "\n",
    "print(v.data)"
   ]
  },
  {
   "cell_type": "markdown",
   "metadata": {},
   "source": [
    "<a id=\"task8\"></a>\n",
    "<h3>Task 8</h3> \n",
    "\n",
    "Implement the circuit which applies $QFT$ to any $n$-qubit system. Define a function named <i>qft</i> which takes the number of qubits, the qubits and the circuit as its parameter. Simulate the circuit for the different $n$ values you pick and print the corresponding unitary matrices. "
   ]
  },
  {
   "cell_type": "markdown",
   "metadata": {},
   "source": [
    "<h3>Solution </h3>"
   ]
  },
  {
   "cell_type": "code",
   "execution_count": null,
   "metadata": {},
   "outputs": [],
   "source": [
    "from qiskit import QuantumRegister, ClassicalRegister, QuantumCircuit\n",
    "from qiskit_aer import StatevectorSimulator\n",
    "from math import pi\n",
    "\n",
    "def qft(n, qubits, circuit):\n",
    "    #For each qubit\n",
    "    for i in range(n):\n",
    "        #Apply Hadamard to the qubit\n",
    "        circuit.h(qubits[i])\n",
    "        \n",
    "        #Apply CR_k gates where j is the control and i is the target\n",
    "        k=2 #We start with k=2\n",
    "        for j in range(i+1,n):\n",
    "            #Apply CR_k gate  \n",
    "            circuit.cp(pi*2/2**(k), qubits[j],qubits[i])\n",
    "            k=k+1 #Increment k at each step\n",
    " \n",
    "    #Swap the qubits\n",
    "    for i in range(n//2):\n",
    "        circuit.swap(qubits[i],qubits[n-i-1])     "
   ]
  },
  {
   "cell_type": "code",
   "execution_count": null,
   "metadata": {},
   "outputs": [],
   "source": [
    "inputs = ['000','001','010','011','100','101','110','111']\n",
    "n = 3\n",
    "\n",
    "for input in inputs:\n",
    "\n",
    "    #Create n qubits\n",
    "    q2=QuantumRegister(n)\n",
    "\n",
    "    #Create circuit\n",
    "    qc2 = QuantumCircuit(q2)\n",
    "    \n",
    "    #initialization\n",
    "    if input[0]=='1':\n",
    "        qc2.x(q2[0])\n",
    "        \n",
    "    if input[1]=='1':\n",
    "        qc2.x(q2[1])\n",
    "        \n",
    "    if input[2]=='1':\n",
    "        qc2.x(q2[2])\n",
    "        \n",
    "\n",
    "    #Call qft function\n",
    "    qft(n,q2,qc2)\n",
    "\n",
    "    #Printing circuit\n",
    "    display(qc2.draw('mpl', reverse_bits=False))\n",
    "\n",
    "    #Simulating circuit\n",
    "    print('Simulate the circuit:')\n",
    "    job = StatevectorSimulator().run(qc2)\n",
    "    v2=job.result().get_statevector(qc2,decimals=3)\n",
    "\n",
    "    print(v2.data)\n"
   ]
  },
  {
   "cell_type": "markdown",
   "metadata": {},
   "source": [
    "<a id=\"task9\"></a>\n",
    "<h3>Task 9</h3> \n",
    "\n",
    "Implement the circuit which applies $QFT^{\\dagger}$ to any $n$-qubit system. Define a function named <i>iqft</i> which takes the number of qubits, the qubits and the circuit as its parameter. Simulate the circuit for different $n$ values. Apply both $QFT$ and $QFT^{\\dagger}$ and check whether the corresponding unitary matrix is the identity matrix. Write your function to a file so that you can use it later."
   ]
  },
  {
   "cell_type": "markdown",
   "metadata": {},
   "source": [
    "<h3>Solution </h3>"
   ]
  },
  {
   "cell_type": "code",
   "execution_count": null,
   "metadata": {},
   "outputs": [],
   "source": [
    "#%%writefile iqft.py\n",
    "from qiskit import QuantumRegister, ClassicalRegister, QuantumCircuit\n",
    "from qiskit_aer import StatevectorSimulator, UnitarySimulator\n",
    "from math import pi\n",
    "\n",
    "def iqft(n, qubits, circuit):\n",
    "    #Swap the qubits\n",
    "    for i in range(n//2):\n",
    "        circuit.swap(qubits[i],qubits[n-i-1])     \n",
    "        \n",
    "    #For each qubit\n",
    "    for i in range(n-1,-1,-1):\n",
    "        #Apply CR_k gates where j is the control and i is the target\n",
    "        k=n-i #We start with k=n-i\n",
    "        for j in range(n-1,i,-1):\n",
    "            #Apply CR_k gate  \n",
    "            circuit.cp(-pi*2/2**(k), qubits[j],qubits[i])\n",
    "            k=k-1 #Dencrement k at each step\n",
    " \n",
    "        #Apply Hadamard to the qubit\n",
    "        circuit.h(qubits[i])"
   ]
  },
  {
   "cell_type": "code",
   "execution_count": null,
   "metadata": {},
   "outputs": [],
   "source": [
    "import numpy as np\n",
    "\n",
    "n = 4\n",
    "\n",
    "#Create circuit\n",
    "q3=QuantumRegister(n)\n",
    "qc3 = QuantumCircuit(q3)\n",
    "    \n",
    "#Call qft function\n",
    "qft(n,q3,qc3)\n",
    "\n",
    "#Call qft function\n",
    "#iqft(n,q3,qc3)\n",
    "\n",
    "#Simulate the state vector\n",
    "job = StatevectorSimulator().run(qc3)\n",
    "v3=job.result().get_statevector(qc3,decimals=3)\n",
    "print('State vector')\n",
    "print(v3.data)\n",
    "\n",
    "#Simulate the unitary\n",
    "job = UnitarySimulator().run(qc3)\n",
    "u3=job.result().get_unitary(qc3,decimals=3)\n",
    "print('Unitary matrix representation')\n",
    "print(np.angle(np.sqrt(2**n)*np.array(u3.data))/(2*np.pi)*(2**n))\n"
   ]
  }
 ],
 "metadata": {
  "kernelspec": {
   "display_name": "Python 3 (ipykernel)",
   "language": "python",
   "name": "python3"
  },
  "language_info": {
   "codemirror_mode": {
    "name": "ipython",
    "version": 3
   },
   "file_extension": ".py",
   "mimetype": "text/x-python",
   "name": "python",
   "nbconvert_exporter": "python",
   "pygments_lexer": "ipython3",
   "version": "3.12.2"
  }
 },
 "nbformat": 4,
 "nbformat_minor": 4
}
